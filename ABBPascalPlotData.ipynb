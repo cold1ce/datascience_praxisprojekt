{
 "cells": [
  {
   "cell_type": "code",
   "execution_count": 1,
   "metadata": {},
   "outputs": [],
   "source": [
    "# Imports\n",
    "import matplotlib.pyplot as plt\n",
    "import matplotlib.dates as mdates\n",
    "import numpy as np\n",
    "import pandas as pd"
   ]
  },
  {
   "cell_type": "code",
   "execution_count": 2,
   "metadata": {},
   "outputs": [],
   "source": [
    "#Daten einlesen\n",
    "data = pd.read_pickle(\"D:/Eclipse Python/DataScience/res/event_ano.pkl\");"
   ]
  },
  {
   "cell_type": "code",
   "execution_count": 3,
   "metadata": {},
   "outputs": [],
   "source": [
    "#Daten in neue Variable schreiben\n",
    "data1 = data"
   ]
  },
  {
   "cell_type": "code",
   "execution_count": 4,
   "metadata": {},
   "outputs": [],
   "source": [
    "del data1['an_title']\n",
    "del data1['an_description']\n",
    "del data1['message_category']\n",
    "del data1['message_severity']\n",
    "del data1['an_line']\n",
    "del data1['an_cell']"
   ]
  },
  {
   "cell_type": "code",
   "execution_count": 5,
   "metadata": {},
   "outputs": [],
   "source": [
    "# data\n",
    "timeStamp = data1[data1.columns[0]].values\n",
    "x = []\n",
    "y = [int(numeric_string) for numeric_string in data1[data1.columns[1]].values]\n",
    "\n",
    "# make up some data\n",
    "for i in timeStamp:\n",
    "    dateTime = pd.Timestamp(np.datetime64(i)).to_pydatetime()\n",
    "    x.append(dateTime)"
   ]
  },
  {
   "cell_type": "code",
   "execution_count": 6,
   "metadata": {},
   "outputs": [
    {
     "data": {
      "image/png": "[encoded data removed]",
      "text/plain": [
       "<matplotlib.figure.Figure at 0x36b27668>"
      ]
     },
     "metadata": {},
     "output_type": "display_data"
    }
   ],
   "source": [
    "# Plotten der Bearbeiten Daten im einem Koordinatensystem\n",
    "plt.xlabel('Time')\n",
    "plt.ylabel('Error`s')\n",
    "plt.plot([],[])\n",
    "plt.scatter(x,y)\n",
    "\n",
    "# beautify the x-labels\n",
    "plt.gcf().autofmt_xdate()\n",
    "myFmt = mdates.DateFormatter('%Y-%m-%d %H:%M:%S')\n",
    "plt.gca().xaxis\n",
    "\n",
    "plt.show()\n",
    "plt.close()"
   ]
  },
  {
   "cell_type": "code",
   "execution_count": null,
   "metadata": {},
   "outputs": [],
   "source": []
  }
 ],
 "metadata": {
  "kernelspec": {
   "display_name": "Python 3",
   "language": "python",
   "name": "python3"
  },
  "language_info": {
   "codemirror_mode": {
    "name": "ipython",
    "version": 3
   },
   "file_extension": ".py",
   "mimetype": "text/x-python",
   "name": "python",
   "nbconvert_exporter": "python",
   "pygments_lexer": "ipython3",
   "version": "3.6.4"
  }
 },
 "nbformat": 4,
 "nbformat_minor": 2
}
