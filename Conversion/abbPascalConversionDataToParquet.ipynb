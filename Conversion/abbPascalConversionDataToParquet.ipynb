{
 "cells": [
  {
   "cell_type": "code",
   "execution_count": 2,
   "metadata": {},
   "outputs": [],
   "source": [
    "# Import\n",
    "import pandas as pd\n",
    "import pyarrow"
   ]
  },
  {
   "cell_type": "code",
   "execution_count": 3,
   "metadata": {},
   "outputs": [],
   "source": [
    "def main(path_pickle,path_parquet):    \n",
    "    \n",
    "    #Daten einlesen\n",
    "    data = pd.read_pickle(path_pickle);\n",
    "    data.to_parquet(path_parquet, compression='gzip')\n",
    "    \n",
    "    print(\"Fertig\")"
   ]
  },
  {
   "cell_type": "code",
   "execution_count": 4,
   "metadata": {},
   "outputs": [
    {
     "name": "stdout",
     "output_type": "stream",
     "text": [
      "Fertig\n"
     ]
    }
   ],
   "source": [
    "main(\"D:/Eclipse Python/DataScience/res/event_ano.pkl\",\"D:/Eclipse Python/DataScience/res/event_ano.parquet.gzip\")"
   ]
  },
  {
   "cell_type": "code",
   "execution_count": 5,
   "metadata": {},
   "outputs": [],
   "source": [
    "def main(path_csv,path_parquet):    \n",
    "    \n",
    "    #Daten einlesen\n",
    "    data = pd.read_csv(path_csv)\n",
    "    data.to_parquet(path_parquet, compression='gzip')\n",
    "    \n",
    "    print(\"Fertig\")"
   ]
  },
  {
   "cell_type": "code",
   "execution_count": null,
   "metadata": {},
   "outputs": [],
   "source": [
    "main(\"D:/Eclipse Python/DataScience/res/event_ano.csv\",\"D:/Eclipse Python/DataScience/res/event_ano.parquet.gzip\")"
   ]
  }
 ],
 "metadata": {
  "kernelspec": {
   "display_name": "Python 3",
   "language": "python",
   "name": "python3"
  },
  "language_info": {
   "codemirror_mode": {
    "name": "ipython",
    "version": 3
   },
   "file_extension": ".py",
   "mimetype": "text/x-python",
   "name": "python",
   "nbconvert_exporter": "python",
   "pygments_lexer": "ipython3",
   "version": "3.6.4"
  }
 },
 "nbformat": 4,
 "nbformat_minor": 2
}
