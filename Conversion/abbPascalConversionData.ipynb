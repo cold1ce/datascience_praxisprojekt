{
 "cells": [
  {
   "cell_type": "code",
   "execution_count": 1,
   "metadata": {},
   "outputs": [],
   "source": [
    "# Import\n",
    "import csv\n",
    "import pandas as pd"
   ]
  },
  {
   "cell_type": "code",
   "execution_count": 2,
   "metadata": {},
   "outputs": [],
   "source": [
    "def main(path_pickle,path_csv):    \n",
    "    \n",
    "    #Daten einlesen\n",
    "    data = pd.read_pickle(path_pickle);\n",
    "    \n",
    "    with open(path_csv,'w') as f:\n",
    "        writer = csv.writer(f)\n",
    "        \n",
    "        data1 = []\n",
    "        for j in data:\n",
    "            data1.append(j)\n",
    "        writer.writerow(data1)\n",
    "        \n",
    "        for i in data:\n",
    "            data2 = []\n",
    "            for j in data[i]:\n",
    "                data2.append(j)\n",
    "            writer.writerow(data2)\n",
    "    print(\"Fertig\")"
   ]
  },
  {
   "cell_type": "code",
   "execution_count": null,
   "metadata": {},
   "outputs": [],
   "source": [
    "main(\"D:/Eclipse Python/DataScience/res/event_ano.pkl\",\"D:/Eclipse Python/DataScience/res/event_ano.csv\")"
   ]
  },
  {
   "cell_type": "code",
   "execution_count": null,
   "metadata": {},
   "outputs": [],
   "source": []
  }
 ],
 "metadata": {
  "kernelspec": {
   "display_name": "Python 3",
   "language": "python",
   "name": "python3"
  },
  "language_info": {
   "codemirror_mode": {
    "name": "ipython",
    "version": 3
   },
   "file_extension": ".py",
   "mimetype": "text/x-python",
   "name": "python",
   "nbconvert_exporter": "python",
   "pygments_lexer": "ipython3",
   "version": "3.6.4"
  }
 },
 "nbformat": 4,
 "nbformat_minor": 2
}
