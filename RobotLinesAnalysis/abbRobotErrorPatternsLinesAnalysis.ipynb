{
 "cells": [
  {
   "cell_type": "code",
   "execution_count": 25,
   "metadata": {},
   "outputs": [],
   "source": [
    "# imports\n",
    "import pandas as pd\n",
    "import numpy as np\n",
    "import matplotlib.pyplot as plt\n",
    "import seaborn as sns\n",
    "from matplotlib import pyplot\n",
    "%matplotlib inline"
   ]
  },
  {
   "cell_type": "code",
   "execution_count": 26,
   "metadata": {},
   "outputs": [],
   "source": [
    "#Hallo Herr Zimmermann,\n",
    "\n",
    " \n",
    "\n",
    "#vielen Dank für Ihre Nachricht.\n",
    "\n",
    "#Ich habe mir das Notebook angeschaut und eine Lösung vorgeschlagen. Allerdings verstehe ich das Ziel der Methode nicht ganz, von daher müssten Sie einmal prüfen, ob ich es richtig interpretiert habe.\n",
    "\n",
    "#Mein Vorschlag kann folgendes: für ein Fenster von z.B. 10 Nachrichten vorher oder nachher (Achtung: nachher ist für eine Prediction nicht verwendbar! Zukunftsinformation nennt man das) wird gezählt, wie oft die severity-Klassen 1, 2 und 3 vorkommen. Dies lege ich in drei Spalten ab: pre_no_srv_1, pre_no_srv_2, pre_no_srv_3\n",
    "\n",
    "#Die vielen Spalten, die durch das „Shiften“ zustande kommen, können Sie auch wieder löschen. Diese sind nur für den Zwischenschritt nötig.\n",
    "\n",
    "#So bewege ich mich dauerhaft in der Pandas-Welt und von der Performance (Laufzeit und Speicher) gibt es keine Problem.\n",
    "\n",
    " \n",
    "\n",
    "#Ist es das, was Sie erreichen wollten?\n",
    "\n",
    " \n",
    "\n",
    "#Hinsichtlich der Mappings habe ich Ihnen auch noch einen Vorschlag gemacht.\n",
    "\n",
    " \n",
    "\n",
    "#Viele Grüße und ein schönes Wochenende\n",
    "\n",
    "#Peer Küppers "
   ]
  },
  {
   "cell_type": "code",
   "execution_count": 28,
   "metadata": {},
   "outputs": [
    {
     "ename": "SyntaxError",
     "evalue": "invalid syntax (<ipython-input-28-9bae51b47e44>, line 2)",
     "output_type": "error",
     "traceback": [
      "\u001b[1;36m  File \u001b[1;32m\"<ipython-input-28-9bae51b47e44>\"\u001b[1;36m, line \u001b[1;32m2\u001b[0m\n\u001b[1;33m    df_orig = pd.read_parquet(../data_source/event_ano.parquet.gzip)\u001b[0m\n\u001b[1;37m                              ^\u001b[0m\n\u001b[1;31mSyntaxError\u001b[0m\u001b[1;31m:\u001b[0m invalid syntax\n"
     ]
    }
   ],
   "source": [
    "#Daten einlesen\n",
    "df_orig = pd.read_parquet(\"../data_source/event_ano.parquet.gzip\")"
   ]
  },
  {
   "cell_type": "code",
   "execution_count": 4,
   "metadata": {},
   "outputs": [],
   "source": [
    "df = df_orig.set_index(\"event_timestamp\")\n",
    "del df['Unnamed: 0']\n",
    "df.sort_index(inplace=True)"
   ]
  },
  {
   "cell_type": "code",
   "execution_count": 5,
   "metadata": {},
   "outputs": [],
   "source": [
    "line_mapping = {}\n",
    "for k, v in [(l, int(l.split(\"_\")[1])) for l in list(df.an_line.unique())]:\n",
    "    line_mapping[k] = v\n",
    "\n",
    "df[\"an_line_no\"] = df.an_line.map(line_mapping)  "
   ]
  },
  {
   "cell_type": "code",
   "execution_count": 6,
   "metadata": {},
   "outputs": [],
   "source": [
    "cell_mapping = {}\n",
    "for k, v in [(l, int(l.split(\"_\")[1])) for l in list(df.an_cell.unique())]:\n",
    "    cell_mapping[k] = v\n",
    "\n",
    "df[\"an_cell_no\"] = df.an_cell.map(cell_mapping)  "
   ]
  },
  {
   "cell_type": "code",
   "execution_count": 7,
   "metadata": {},
   "outputs": [],
   "source": [
    "robot_mapping = {}\n",
    "for k, v in [(l, int(l.split(\"_\")[1])) for l in list(df.an_robot.unique())]:\n",
    "    robot_mapping[k] = v\n",
    "\n",
    "df[\"an_robot_no\"] = df.an_robot.map(robot_mapping)  "
   ]
  },
  {
   "cell_type": "code",
   "execution_count": 8,
   "metadata": {},
   "outputs": [],
   "source": [
    "message_severity_mapping = {\"Error\":1,\"Warning\":2,\"Information\":3}\n",
    "\n",
    "df[\"message_severity\"] = df.message_severity.apply(lambda x: message_severity_mapping[x] if x in message_severity_mapping.keys() else x)"
   ]
  },
  {
   "cell_type": "code",
   "execution_count": 9,
   "metadata": {},
   "outputs": [],
   "source": [
    "def dfExtractMethod(df,extract_value):\n",
    "    df_extract = df.loc[df['an_line_no'] == extract_value]\n",
    "    return df_extract"
   ]
  },
  {
   "cell_type": "code",
   "execution_count": 10,
   "metadata": {},
   "outputs": [],
   "source": [
    "def dfExtractErrorWarningInformationAnd10RowsUpAndDownPatternAllMethod(df,no_of_messages):\n",
    "    dataFrame = pd.DataFrame()\n",
    "    \n",
    "    for j in range(0,28):\n",
    "        df_extract = dfExtractMethod(df,j)\n",
    "        df_extract = df_extract.reset_index()\n",
    "                \n",
    "        for i in range(1,no_of_messages + 1):\n",
    "            df_extract['msg_svr_pre_{}'.format(i)] = df_extract.shift(i).message_severity\n",
    "\n",
    "        pre_column_names = ['msg_svr_pre_{}'.format(i) for i in range(1, no_of_messages + 1)]\n",
    "\n",
    "        for i in range(1, 4):\n",
    "            df_extract['pre_no_srv_{}'.format(i)] = (df_extract[pre_column_names]==i).sum(axis=1)\n",
    "        \n",
    "        dataFrame = dataFrame.append(df_extract)\n",
    "    return dataFrame"
   ]
  },
  {
   "cell_type": "code",
   "execution_count": 11,
   "metadata": {},
   "outputs": [],
   "source": [
    "df_ErrorsPerLinesPattern = dfExtractErrorWarningInformationAnd10RowsUpAndDownPatternAllMethod(df,10)\n",
    "df_ErrorsPerLinesPattern.to_parquet(\"../data_all/event_ano_pattern_all.parquet.gzip\", compression='gzip')"
   ]
  },
  {
   "cell_type": "code",
   "execution_count": 12,
   "metadata": {},
   "outputs": [],
   "source": [
    "def dfExtractErrorWarningInformationAnd10RowsUpAndDownPatternSinglesMethod(df,no_of_messages):\n",
    "    for j in range(0,28):\n",
    "        df_extract = dfExtractMethod(df,j)\n",
    "        df_extract = df_extract.reset_index()\n",
    "        \n",
    "        for i in range(1,no_of_messages + 1):\n",
    "            df_extract['msg_svr_pre_{}'.format(i)] = df_extract.shift(i).message_severity\n",
    "\n",
    "        pre_column_names = ['msg_svr_pre_{}'.format(i) for i in range(1, no_of_messages + 1)]\n",
    "\n",
    "        for i in range(1, 4):\n",
    "            df_extract['pre_no_srv_{}'.format(i)] = (df_extract[pre_column_names]==i).sum(axis=1)\n",
    "    \n",
    "        df_extract.to_parquet(\"../data_singels/event_ano_pattern_single_{}.parquet.gzip\".format(j),compression='gzip')"
   ]
  },
  {
   "cell_type": "code",
   "execution_count": 13,
   "metadata": {},
   "outputs": [],
   "source": [
    "dfExtractErrorWarningInformationAnd10RowsUpAndDownPatternSinglesMethod(df,10)"
   ]
  },
  {
   "cell_type": "code",
   "execution_count": 23,
   "metadata": {},
   "outputs": [],
   "source": [
    "def dfExtractErrorWarningInformationAnd10RowsUpAndDownPatternDataSetLinesMethod(df,no_of_messages,extract_value):\n",
    "    for i in range(0,28):\n",
    "        df_extract = dfExtractMethod(df,i)\n",
    "        df_extract = df_extract.reset_index()\n",
    "        \n",
    "        number1 = 0\n",
    "        number2 = 0\n",
    "        size = df_extract.size\n",
    "        data1 = []\n",
    "        \n",
    "        for j in df_extract:\n",
    "            data1.append(j)\n",
    "\n",
    "        dataFrame1 = pd.DataFrame(columns=data1)\n",
    "        \n",
    "        for k in df_extract.values:\n",
    "            if(k[3] == extract_value):\n",
    "                for l in range(1,11):\n",
    "                    if(number1+l <= size and number1+l >= 0):\n",
    "                        data2 = df_extract.values[number1-l]\n",
    "                        for index in range(number2,number2+1):\n",
    "                            dataFrame1.at[index, 'event_timestamp'] = data2[0]\n",
    "                            dataFrame1.at[index, 'message_number'] = data2[1]\n",
    "                            dataFrame1.at[index, 'message_category'] = data2[2]\n",
    "                            dataFrame1.at[index, 'message_severity'] = data2[3]\n",
    "                            dataFrame1.at[index, 'an_title'] = data2[4]\n",
    "                            dataFrame1.at[index, 'an_description'] = data2[5]\n",
    "                            dataFrame1.at[index, 'an_line'] = data2[6]\n",
    "                            dataFrame1.at[index, 'an_cell'] = data2[7]\n",
    "                            dataFrame1.at[index, 'an_robot'] = data2[8]\n",
    "                            dataFrame1.at[index, 'an_line_no'] = data2[9]\n",
    "                            dataFrame1.at[index, 'an_cell_no'] = data2[10]\n",
    "                            dataFrame1.at[index, 'an_robot_no'] = data2[11]\n",
    "                            number2 = index\n",
    "\n",
    "                    if(l == 10):\n",
    "                        dataFrame1.at[number2+1, 'event_timestamp'] = k[0]\n",
    "                        dataFrame1.at[number2+1, 'message_number'] = k[1]\n",
    "                        dataFrame1.at[number2+1, 'message_category'] = k[2]\n",
    "                        dataFrame1.at[number2+1, 'message_severity'] = k[3]\n",
    "                        dataFrame1.at[number2+1, 'an_title'] = k[4]\n",
    "                        dataFrame1.at[number2+1, 'an_description'] = k[5]\n",
    "                        dataFrame1.at[number2+1, 'an_line'] = k[6]\n",
    "                        dataFrame1.at[number2+1, 'an_cell'] = k[7]\n",
    "                        dataFrame1.at[number2+1, 'an_robot'] = k[8]\n",
    "                        dataFrame1.at[number2+1, 'an_line_no'] = k[9]\n",
    "                        dataFrame1.at[number2+1, 'an_cell_no'] = k[10]\n",
    "                        dataFrame1.at[number2+1, 'an_robot_no'] = k[11]\n",
    "                        number2 = number2+1\n",
    "            else:\n",
    "                number1 = number1 + 1\n",
    "                continue        \n",
    "        \n",
    "        print(\"Fertig{}\".format(i))\n",
    "        dataFrame1.to_parquet(\"../data_dataset/singles/event_ano_pattern_dataset_per_line_line_{}.parquet.gzip\".format(i), compression='gzip')\n",
    "    print(\"Fertig\")"
   ]
  },
  {
   "cell_type": "code",
   "execution_count": 24,
   "metadata": {},
   "outputs": [
    {
     "name": "stdout",
     "output_type": "stream",
     "text": [
      "Fertig0\n",
      "Fertig1\n",
      "Fertig2\n",
      "Fertig3\n"
     ]
    },
    {
     "ename": "KeyboardInterrupt",
     "evalue": "",
     "output_type": "error",
     "traceback": [
      "\u001b[1;31m---------------------------------------------------------------------------\u001b[0m",
      "\u001b[1;31mKeyboardInterrupt\u001b[0m                         Traceback (most recent call last)",
      "\u001b[1;32m<ipython-input-24-292ad1013a61>\u001b[0m in \u001b[0;36m<module>\u001b[1;34m()\u001b[0m\n\u001b[1;32m----> 1\u001b[1;33m \u001b[0mdfExtractErrorWarningInformationAnd10RowsUpAndDownPatternDataSetLinesMethod\u001b[0m\u001b[1;33m(\u001b[0m\u001b[0mdf\u001b[0m\u001b[1;33m,\u001b[0m\u001b[1;36m10\u001b[0m\u001b[1;33m,\u001b[0m\u001b[1;36m1\u001b[0m\u001b[1;33m)\u001b[0m\u001b[1;33m\u001b[0m\u001b[0m\n\u001b[0m",
      "\u001b[1;32m<ipython-input-23-c95e4dec67f6>\u001b[0m in \u001b[0;36mdfExtractErrorWarningInformationAnd10RowsUpAndDownPatternDataSetLinesMethod\u001b[1;34m(df, no_of_messages, extract_value)\u001b[0m\n\u001b[0;32m     18\u001b[0m                 \u001b[1;32mfor\u001b[0m \u001b[0ml\u001b[0m \u001b[1;32min\u001b[0m \u001b[0mrange\u001b[0m\u001b[1;33m(\u001b[0m\u001b[1;36m1\u001b[0m\u001b[1;33m,\u001b[0m\u001b[1;36m11\u001b[0m\u001b[1;33m)\u001b[0m\u001b[1;33m:\u001b[0m\u001b[1;33m\u001b[0m\u001b[0m\n\u001b[0;32m     19\u001b[0m                     \u001b[1;32mif\u001b[0m\u001b[1;33m(\u001b[0m\u001b[0mnumber1\u001b[0m\u001b[1;33m+\u001b[0m\u001b[0ml\u001b[0m \u001b[1;33m<=\u001b[0m \u001b[0msize\u001b[0m \u001b[1;32mand\u001b[0m \u001b[0mnumber1\u001b[0m\u001b[1;33m+\u001b[0m\u001b[0ml\u001b[0m \u001b[1;33m>=\u001b[0m \u001b[1;36m0\u001b[0m\u001b[1;33m)\u001b[0m\u001b[1;33m:\u001b[0m\u001b[1;33m\u001b[0m\u001b[0m\n\u001b[1;32m---> 20\u001b[1;33m                         \u001b[0mdata2\u001b[0m \u001b[1;33m=\u001b[0m \u001b[0mdf_extract\u001b[0m\u001b[1;33m.\u001b[0m\u001b[0mvalues\u001b[0m\u001b[1;33m[\u001b[0m\u001b[0mnumber1\u001b[0m\u001b[1;33m-\u001b[0m\u001b[0ml\u001b[0m\u001b[1;33m]\u001b[0m\u001b[1;33m\u001b[0m\u001b[0m\n\u001b[0m\u001b[0;32m     21\u001b[0m                         \u001b[1;32mfor\u001b[0m \u001b[0mindex\u001b[0m \u001b[1;32min\u001b[0m \u001b[0mrange\u001b[0m\u001b[1;33m(\u001b[0m\u001b[0mnumber2\u001b[0m\u001b[1;33m,\u001b[0m\u001b[0mnumber2\u001b[0m\u001b[1;33m+\u001b[0m\u001b[1;36m1\u001b[0m\u001b[1;33m)\u001b[0m\u001b[1;33m:\u001b[0m\u001b[1;33m\u001b[0m\u001b[0m\n\u001b[0;32m     22\u001b[0m                             \u001b[0mdataFrame1\u001b[0m\u001b[1;33m.\u001b[0m\u001b[0mat\u001b[0m\u001b[1;33m[\u001b[0m\u001b[0mindex\u001b[0m\u001b[1;33m,\u001b[0m \u001b[1;34m'event_timestamp'\u001b[0m\u001b[1;33m]\u001b[0m \u001b[1;33m=\u001b[0m \u001b[0mdata2\u001b[0m\u001b[1;33m[\u001b[0m\u001b[1;36m0\u001b[0m\u001b[1;33m]\u001b[0m\u001b[1;33m\u001b[0m\u001b[0m\n",
      "\u001b[1;32mD:\\Anaconda\\lib\\site-packages\\pandas\\core\\generic.py\u001b[0m in \u001b[0;36mvalues\u001b[1;34m(self)\u001b[0m\n\u001b[0;32m   4631\u001b[0m         \"\"\"\n\u001b[0;32m   4632\u001b[0m         \u001b[0mself\u001b[0m\u001b[1;33m.\u001b[0m\u001b[0m_consolidate_inplace\u001b[0m\u001b[1;33m(\u001b[0m\u001b[1;33m)\u001b[0m\u001b[1;33m\u001b[0m\u001b[0m\n\u001b[1;32m-> 4633\u001b[1;33m         \u001b[1;32mreturn\u001b[0m \u001b[0mself\u001b[0m\u001b[1;33m.\u001b[0m\u001b[0m_data\u001b[0m\u001b[1;33m.\u001b[0m\u001b[0mas_array\u001b[0m\u001b[1;33m(\u001b[0m\u001b[0mtranspose\u001b[0m\u001b[1;33m=\u001b[0m\u001b[0mself\u001b[0m\u001b[1;33m.\u001b[0m\u001b[0m_AXIS_REVERSED\u001b[0m\u001b[1;33m)\u001b[0m\u001b[1;33m\u001b[0m\u001b[0m\n\u001b[0m\u001b[0;32m   4634\u001b[0m \u001b[1;33m\u001b[0m\u001b[0m\n\u001b[0;32m   4635\u001b[0m     \u001b[1;33m@\u001b[0m\u001b[0mproperty\u001b[0m\u001b[1;33m\u001b[0m\u001b[0m\n",
      "\u001b[1;32mD:\\Anaconda\\lib\\site-packages\\pandas\\core\\internals.py\u001b[0m in \u001b[0;36mas_array\u001b[1;34m(self, transpose, items)\u001b[0m\n\u001b[0;32m   3947\u001b[0m             \u001b[0marr\u001b[0m \u001b[1;33m=\u001b[0m \u001b[0mmgr\u001b[0m\u001b[1;33m.\u001b[0m\u001b[0mblocks\u001b[0m\u001b[1;33m[\u001b[0m\u001b[1;36m0\u001b[0m\u001b[1;33m]\u001b[0m\u001b[1;33m.\u001b[0m\u001b[0mget_values\u001b[0m\u001b[1;33m(\u001b[0m\u001b[1;33m)\u001b[0m\u001b[1;33m\u001b[0m\u001b[0m\n\u001b[0;32m   3948\u001b[0m         \u001b[1;32melse\u001b[0m\u001b[1;33m:\u001b[0m\u001b[1;33m\u001b[0m\u001b[0m\n\u001b[1;32m-> 3949\u001b[1;33m             \u001b[0marr\u001b[0m \u001b[1;33m=\u001b[0m \u001b[0mmgr\u001b[0m\u001b[1;33m.\u001b[0m\u001b[0m_interleave\u001b[0m\u001b[1;33m(\u001b[0m\u001b[1;33m)\u001b[0m\u001b[1;33m\u001b[0m\u001b[0m\n\u001b[0m\u001b[0;32m   3950\u001b[0m \u001b[1;33m\u001b[0m\u001b[0m\n\u001b[0;32m   3951\u001b[0m         \u001b[1;32mreturn\u001b[0m \u001b[0marr\u001b[0m\u001b[1;33m.\u001b[0m\u001b[0mtranspose\u001b[0m\u001b[1;33m(\u001b[0m\u001b[1;33m)\u001b[0m \u001b[1;32mif\u001b[0m \u001b[0mtranspose\u001b[0m \u001b[1;32melse\u001b[0m \u001b[0marr\u001b[0m\u001b[1;33m\u001b[0m\u001b[0m\n",
      "\u001b[1;32mD:\\Anaconda\\lib\\site-packages\\pandas\\core\\internals.py\u001b[0m in \u001b[0;36m_interleave\u001b[1;34m(self)\u001b[0m\n\u001b[0;32m   3977\u001b[0m             \u001b[0mrl\u001b[0m \u001b[1;33m=\u001b[0m \u001b[0mblk\u001b[0m\u001b[1;33m.\u001b[0m\u001b[0mmgr_locs\u001b[0m\u001b[1;33m\u001b[0m\u001b[0m\n\u001b[0;32m   3978\u001b[0m             \u001b[0mresult\u001b[0m\u001b[1;33m[\u001b[0m\u001b[0mrl\u001b[0m\u001b[1;33m.\u001b[0m\u001b[0mindexer\u001b[0m\u001b[1;33m]\u001b[0m \u001b[1;33m=\u001b[0m \u001b[0mblk\u001b[0m\u001b[1;33m.\u001b[0m\u001b[0mget_values\u001b[0m\u001b[1;33m(\u001b[0m\u001b[0mdtype\u001b[0m\u001b[1;33m)\u001b[0m\u001b[1;33m\u001b[0m\u001b[0m\n\u001b[1;32m-> 3979\u001b[1;33m             \u001b[0mitemmask\u001b[0m\u001b[1;33m[\u001b[0m\u001b[0mrl\u001b[0m\u001b[1;33m.\u001b[0m\u001b[0mindexer\u001b[0m\u001b[1;33m]\u001b[0m \u001b[1;33m=\u001b[0m \u001b[1;36m1\u001b[0m\u001b[1;33m\u001b[0m\u001b[0m\n\u001b[0m\u001b[0;32m   3980\u001b[0m \u001b[1;33m\u001b[0m\u001b[0m\n\u001b[0;32m   3981\u001b[0m         \u001b[1;32mif\u001b[0m \u001b[1;32mnot\u001b[0m \u001b[0mitemmask\u001b[0m\u001b[1;33m.\u001b[0m\u001b[0mall\u001b[0m\u001b[1;33m(\u001b[0m\u001b[1;33m)\u001b[0m\u001b[1;33m:\u001b[0m\u001b[1;33m\u001b[0m\u001b[0m\n",
      "\u001b[1;31mKeyboardInterrupt\u001b[0m: "
     ]
    }
   ],
   "source": [
    "dfExtractErrorWarningInformationAnd10RowsUpAndDownPatternDataSetLinesMethod(df,10,1)"
   ]
  },
  {
   "cell_type": "code",
   "execution_count": null,
   "metadata": {},
   "outputs": [],
   "source": [
    "def dfExtractErrorWarningInformationAnd10RowsUpAndDownPatternDataSetAllLinesMethod(df,no_of_messages):\n",
    "    number2 = 0\n",
    "    data1 = []\n",
    "    \n",
    "    df_extract = dfExtractMethod(df,i)\n",
    "    df_extract = df_extract.reset_index()\n",
    "    \n",
    "    for j in df_extract:\n",
    "        data1.append(j)\n",
    "\n",
    "    dataFrame1 = pd.DataFrame(columns=data1)\n",
    "    \n",
    "    for j in range(0,28):\n",
    "        df_extract = dfExtractMethod(df,i)\n",
    "        df_extract = df_extract.reset_index()\n",
    "        \n",
    "        number1 = 0\n",
    "        size = df_extract.size\n",
    "               \n",
    "        for k in df_extract.values:\n",
    "            if(k[3] == extract_value):\n",
    "                for l in range(1,11):\n",
    "                    if(number1+l <= size and number1+l >= 0):\n",
    "                        data2 = df_extract.values[number1-l]\n",
    "                        for index in range(number2,number2+1):\n",
    "                            dataFrame1.at[index, 'event_timestamp'] = data2[0]\n",
    "                            dataFrame1.at[index, 'message_number'] = data2[1]\n",
    "                            dataFrame1.at[index, 'message_category'] = data2[2]\n",
    "                            dataFrame1.at[index, 'message_severity'] = data2[3]\n",
    "                            dataFrame1.at[index, 'an_title'] = data2[4]\n",
    "                            dataFrame1.at[index, 'an_description'] = data2[5]\n",
    "                            dataFrame1.at[index, 'an_line'] = data2[6]\n",
    "                            dataFrame1.at[index, 'an_cell'] = data2[7]\n",
    "                            dataFrame1.at[index, 'an_robot'] = data2[8]\n",
    "                            dataFrame1.at[index, 'an_line_no'] = data2[9]\n",
    "                            dataFrame1.at[index, 'an_cell_no'] = data2[10]\n",
    "                            dataFrame1.at[index, 'an_robot_no'] = data2[11]\n",
    "                            number2 = index\n",
    "\n",
    "                    if(l == 10):\n",
    "                        dataFrame1.at[number2+1, 'event_timestamp'] = k[0]\n",
    "                        dataFrame1.at[number2+1, 'message_number'] = k[1]\n",
    "                        dataFrame1.at[number2+1, 'message_category'] = k[2]\n",
    "                        dataFrame1.at[number2+1, 'message_severity'] = k[3]\n",
    "                        dataFrame1.at[number2+1, 'an_title'] = k[4]\n",
    "                        dataFrame1.at[number2+1, 'an_description'] = k[5]\n",
    "                        dataFrame1.at[number2+1, 'an_line'] = k[6]\n",
    "                        dataFrame1.at[number2+1, 'an_cell'] = k[7]\n",
    "                        dataFrame1.at[number2+1, 'an_robot'] = k[8]\n",
    "                        dataFrame1.at[number2+1, 'an_line_no'] = k[9]\n",
    "                        dataFrame1.at[number2+1, 'an_cell_no'] = k[10]\n",
    "                        dataFrame1.at[number2+1, 'an_robot_no'] = k[11]\n",
    "                        number2 = number2+1\n",
    "            else:\n",
    "                number1 = number1 + 1\n",
    "                continue        \n",
    "        \n",
    "    dataFrame1.to_parquet(\"../data_dataset/all/event_ano_pattern_dataset_per_line{}.parquet.gzip\".format(i), compression='gzip')\n",
    "    print(\"Fertig\")"
   ]
  },
  {
   "cell_type": "code",
   "execution_count": null,
   "metadata": {},
   "outputs": [],
   "source": [
    "dfExtractErrorWarningInformationAnd10RowsUpAndDownPatternDataSetAllLinesMethod(df,10)"
   ]
  }
 ],
 "metadata": {
  "kernelspec": {
   "display_name": "Python 3",
   "language": "python",
   "name": "python3"
  },
  "language_info": {
   "codemirror_mode": {
    "name": "ipython",
    "version": 3
   },
   "file_extension": ".py",
   "mimetype": "text/x-python",
   "name": "python",
   "nbconvert_exporter": "python",
   "pygments_lexer": "ipython3",
   "version": "3.6.4"
  }
 },
 "nbformat": 4,
 "nbformat_minor": 2
}
