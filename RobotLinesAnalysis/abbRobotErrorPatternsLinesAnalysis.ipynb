{
 "cells": [
  {
   "cell_type": "code",
   "execution_count": 1,
   "metadata": {},
   "outputs": [],
   "source": [
    "# imports\n",
    "import pandas as pd\n",
    "import numpy as np\n",
    "import matplotlib.pyplot as plt\n",
    "import seaborn as sns\n",
    "from matplotlib import pyplot\n",
    "%matplotlib inline"
   ]
  },
  {
   "cell_type": "code",
   "execution_count": 2,
   "metadata": {},
   "outputs": [],
   "source": [
    "#Hallo Herr Zimmermann,\n",
    "\n",
    " \n",
    "\n",
    "#vielen Dank für Ihre Nachricht.\n",
    "\n",
    "#Ich habe mir das Notebook angeschaut und eine Lösung vorgeschlagen. Allerdings verstehe ich das Ziel der Methode nicht ganz, von daher müssten Sie einmal prüfen, ob ich es richtig interpretiert habe.\n",
    "\n",
    "#Mein Vorschlag kann folgendes: für ein Fenster von z.B. 10 Nachrichten vorher oder nachher (Achtung: nachher ist für eine Prediction nicht verwendbar! Zukunftsinformation nennt man das) wird gezählt, wie oft die severity-Klassen 1, 2 und 3 vorkommen. Dies lege ich in drei Spalten ab: pre_no_srv_1, pre_no_srv_2, pre_no_srv_3\n",
    "\n",
    "#Die vielen Spalten, die durch das „Shiften“ zustande kommen, können Sie auch wieder löschen. Diese sind nur für den Zwischenschritt nötig.\n",
    "\n",
    "#So bewege ich mich dauerhaft in der Pandas-Welt und von der Performance (Laufzeit und Speicher) gibt es keine Problem.\n",
    "\n",
    " \n",
    "\n",
    "#Ist es das, was Sie erreichen wollten?\n",
    "\n",
    " \n",
    "\n",
    "#Hinsichtlich der Mappings habe ich Ihnen auch noch einen Vorschlag gemacht.\n",
    "\n",
    " \n",
    "\n",
    "#Viele Grüße und ein schönes Wochenende\n",
    "\n",
    "#Peer Küppers "
   ]
  },
  {
   "cell_type": "code",
   "execution_count": 3,
   "metadata": {},
   "outputs": [],
   "source": [
    "#Daten einlesen\n",
    "df_orig = pd.read_parquet(\"D:/Eclipse Python/DataScience/res/event_ano.parquet.gzip\")"
   ]
  },
  {
   "cell_type": "code",
   "execution_count": 4,
   "metadata": {},
   "outputs": [],
   "source": [
    "df = df_orig.set_index(\"event_timestamp\")\n",
    "del df['Unnamed: 0']\n",
    "df.sort_index(inplace=True)"
   ]
  },
  {
   "cell_type": "code",
   "execution_count": 5,
   "metadata": {},
   "outputs": [],
   "source": [
    "line_mapping = {}\n",
    "for k, v in [(l, int(l.split(\"_\")[1])) for l in list(df.an_line.unique())]:\n",
    "    line_mapping[k] = v\n",
    "\n",
    "df[\"an_line_no\"] = df.an_line.map(line_mapping)  "
   ]
  },
  {
   "cell_type": "code",
   "execution_count": 6,
   "metadata": {},
   "outputs": [],
   "source": [
    "cell_mapping = {}\n",
    "for k, v in [(l, int(l.split(\"_\")[1])) for l in list(df.an_cell.unique())]:\n",
    "    cell_mapping[k] = v\n",
    "\n",
    "df[\"an_cell_no\"] = df.an_cell.map(cell_mapping)  "
   ]
  },
  {
   "cell_type": "code",
   "execution_count": 7,
   "metadata": {},
   "outputs": [],
   "source": [
    "robot_mapping = {}\n",
    "for k, v in [(l, int(l.split(\"_\")[1])) for l in list(df.an_robot.unique())]:\n",
    "    robot_mapping[k] = v\n",
    "\n",
    "df[\"an_robot_no\"] = df.an_robot.map(robot_mapping)  "
   ]
  },
  {
   "cell_type": "code",
   "execution_count": 8,
   "metadata": {},
   "outputs": [],
   "source": [
    "message_severity_mapping = {\"Error\":1,\"Warning\":2,\"Information\":3}\n",
    "\n",
    "df[\"message_severity\"] = df.message_severity.apply(lambda x: message_severity_mapping[x] if x in message_severity_mapping.keys() else x)"
   ]
  },
  {
   "cell_type": "code",
   "execution_count": 9,
   "metadata": {},
   "outputs": [],
   "source": [
    "def dfExtractMethod(df,extract_value):\n",
    "    df_extract = df.loc[df['an_line_no'] == extract_value]\n",
    "    return df_extract"
   ]
  },
  {
   "cell_type": "code",
   "execution_count": 10,
   "metadata": {},
   "outputs": [],
   "source": [
    "def dfExtractErrorWarningInformationAnd10RowsUpAndDownPatternAllMethod(df,no_of_messages):\n",
    "    dataFrame = pd.DataFrame()\n",
    "    \n",
    "    for j in range(0,28):\n",
    "        df_extract = dfExtractMethod(df,j)\n",
    "        df_extract = df_extract.reset_index()\n",
    "                \n",
    "        for i in range(1,no_of_messages + 1):\n",
    "            df_extract['msg_svr_pre_{}'.format(i)] = df_extract.shift(i).message_severity\n",
    "\n",
    "        pre_column_names = ['msg_svr_pre_{}'.format(i) for i in range(1, no_of_messages + 1)]\n",
    "\n",
    "        for i in range(1, 4):\n",
    "            df_extract['pre_no_srv_{}'.format(i)] = (df_extract[pre_column_names]==i).sum(axis=1)\n",
    "        \n",
    "        dataFrame = dataFrame.append(df_extract)\n",
    "    return dataFrame"
   ]
  },
  {
   "cell_type": "code",
   "execution_count": 11,
   "metadata": {},
   "outputs": [],
   "source": [
    "df_ErrorsPerLinesPattern = dfExtractErrorWarningInformationAnd10RowsUpAndDownPatternAllMethod(df,10)\n",
    "df_ErrorsPerLinesPattern.to_parquet(\"D:/Eclipse Python/DataScience/res/event_ano_pattern_all.parquet.gzip\", compression='gzip')"
   ]
  },
  {
   "cell_type": "code",
   "execution_count": 12,
   "metadata": {},
   "outputs": [],
   "source": [
    "def dfExtractErrorWarningInformationAnd10RowsUpAndDownPatternSinglesMethod(df,no_of_messages):\n",
    "    for j in range(0,28):\n",
    "        df_extract = dfExtractMethod(df,j)\n",
    "        df_extract = df_extract.reset_index()\n",
    "        \n",
    "        for i in range(1,no_of_messages + 1):\n",
    "            df_extract['msg_svr_pre_{}'.format(i)] = df_extract.shift(i).message_severity\n",
    "\n",
    "        pre_column_names = ['msg_svr_pre_{}'.format(i) for i in range(1, no_of_messages + 1)]\n",
    "\n",
    "        for i in range(1, 4):\n",
    "            df_extract['pre_no_srv_{}'.format(i)] = (df_extract[pre_column_names]==i).sum(axis=1)\n",
    "    \n",
    "        df_extract.to_parquet(\"D:/Eclipse Python/DataScience/res/event_ano_pattern_single_{}.parquet.gzip\".format(j),compression='gzip')"
   ]
  },
  {
   "cell_type": "code",
   "execution_count": 13,
   "metadata": {},
   "outputs": [],
   "source": [
    "dfExtractErrorWarningInformationAnd10RowsUpAndDownPatternSinglesMethod(df,10)"
   ]
  },
  {
   "cell_type": "code",
   "execution_count": 21,
   "metadata": {},
   "outputs": [],
   "source": [
    "def dfExtractErrorWarningInformationAnd10RowsUpAndDownPatternDataSetLinesMethod(df,no_of_messages,extract_value):\n",
    "    for i in range(0,28):\n",
    "        df_extract = dfExtractMethod(df,i)\n",
    "        df_extract = df_extract.reset_index()\n",
    "        \n",
    "        number1 = 0\n",
    "        number2 = 0\n",
    "        size = df_extract.size\n",
    "        data1 = []\n",
    "        \n",
    "        for j in df_extract:\n",
    "            data1.append(j)\n",
    "\n",
    "        dataFrame1 = pd.DataFrame(columns=data1)\n",
    "        \n",
    "        for k in df_extract.values:\n",
    "            if(k[3] == extract_value):\n",
    "                for l in range(1,11):\n",
    "                    if(number1+l <= size and number1+l >= 0):\n",
    "                        data2 = df_extract.values[number1-l]\n",
    "                        for index in range(number2,number2+1):\n",
    "                            dataFrame1.at[index, 'event_timestamp'] = data2[0]\n",
    "                            dataFrame1.at[index, 'message_number'] = data2[1]\n",
    "                            dataFrame1.at[index, 'message_category'] = data2[2]\n",
    "                            dataFrame1.at[index, 'message_severity'] = data2[3]\n",
    "                            dataFrame1.at[index, 'an_title'] = data2[4]\n",
    "                            dataFrame1.at[index, 'an_description'] = data2[5]\n",
    "                            dataFrame1.at[index, 'an_line'] = data2[6]\n",
    "                            dataFrame1.at[index, 'an_cell'] = data2[7]\n",
    "                            dataFrame1.at[index, 'an_robot'] = data2[8]\n",
    "                            dataFrame1.at[index, 'an_line_no'] = data2[9]\n",
    "                            dataFrame1.at[index, 'an_cell_no'] = data2[10]\n",
    "                            dataFrame1.at[index, 'an_robot_no'] = data2[11]\n",
    "                            number2 = index\n",
    "\n",
    "                    if(l == 10):\n",
    "                        dataFrame1.at[number2+1, 'event_timestamp'] = k[0]\n",
    "                        dataFrame1.at[number2+1, 'message_number'] = k[1]\n",
    "                        dataFrame1.at[number2+1, 'message_category'] = k[2]\n",
    "                        dataFrame1.at[number2+1, 'message_severity'] = k[3]\n",
    "                        dataFrame1.at[number2+1, 'an_title'] = k[4]\n",
    "                        dataFrame1.at[number2+1, 'an_description'] = k[5]\n",
    "                        dataFrame1.at[number2+1, 'an_line'] = k[6]\n",
    "                        dataFrame1.at[number2+1, 'an_cell'] = k[7]\n",
    "                        dataFrame1.at[number2+1, 'an_robot'] = k[8]\n",
    "                        dataFrame1.at[number2+1, 'an_line_no'] = k[9]\n",
    "                        dataFrame1.at[number2+1, 'an_cell_no'] = k[10]\n",
    "                        dataFrame1.at[number2+1, 'an_robot_no'] = k[11]\n",
    "                        number2 = number2+1\n",
    "            else:\n",
    "                number1 = number1 + 1\n",
    "                continue        \n",
    "        \n",
    "        print(\"Fertig{}\".format(i))\n",
    "        dataFrame1.to_parquet(\"C:/Users/Pascal/ABB Projekt/RobotLinesAnalysis/data_dataset/event_ano_pattern_dataset_per_line_line_{}.parquet.gzip\".format(i), compression='gzip')\n",
    "    print(\"Fertig\")"
   ]
  },
  {
   "cell_type": "code",
   "execution_count": null,
   "metadata": {},
   "outputs": [
    {
     "name": "stdout",
     "output_type": "stream",
     "text": [
      "Fertig0\n"
     ]
    }
   ],
   "source": [
    "dfExtractErrorWarningInformationAnd10RowsUpAndDownPatternDataSetLinesMethod(df,10,1)"
   ]
  },
  {
   "cell_type": "code",
   "execution_count": 37,
   "metadata": {},
   "outputs": [],
   "source": [
    "def dfExtractErrorWarningInformationAnd10RowsUpAndDownPatternDataSetAllLinesMethod(df,no_of_messages):\n",
    "    number2 = 0\n",
    "    data1 = []\n",
    "    \n",
    "    df_extract = dfExtractMethod(df,i)\n",
    "    df_extract = df_extract.reset_index()\n",
    "    \n",
    "    for j in df_extract:\n",
    "        data1.append(j)\n",
    "\n",
    "    dataFrame1 = pd.DataFrame(columns=data1)\n",
    "    \n",
    "    for j in range(0,28):\n",
    "        df_extract = dfExtractMethod(df,i)\n",
    "        df_extract = df_extract.reset_index()\n",
    "        \n",
    "        number1 = 0\n",
    "        size = df_extract.size\n",
    "               \n",
    "        for k in df_extract.values:\n",
    "            if(k[3] == extract_value):\n",
    "                for l in range(1,11):\n",
    "                    if(number1+l <= size and number1+l >= 0):\n",
    "                        data2 = df_extract.values[number1-l]\n",
    "                        for index in range(number2,number2+1):\n",
    "                            dataFrame1.at[index, 'event_timestamp'] = data2[0]\n",
    "                            dataFrame1.at[index, 'message_number'] = data2[1]\n",
    "                            dataFrame1.at[index, 'message_category'] = data2[2]\n",
    "                            dataFrame1.at[index, 'message_severity'] = data2[3]\n",
    "                            dataFrame1.at[index, 'an_title'] = data2[4]\n",
    "                            dataFrame1.at[index, 'an_description'] = data2[5]\n",
    "                            dataFrame1.at[index, 'an_line'] = data2[6]\n",
    "                            dataFrame1.at[index, 'an_cell'] = data2[7]\n",
    "                            dataFrame1.at[index, 'an_robot'] = data2[8]\n",
    "                            dataFrame1.at[index, 'an_line_no'] = data2[9]\n",
    "                            dataFrame1.at[index, 'an_cell_no'] = data2[10]\n",
    "                            dataFrame1.at[index, 'an_robot_no'] = data2[11]\n",
    "                            number2 = index\n",
    "\n",
    "                    if(l == 10):\n",
    "                        dataFrame1.at[number2+1, 'event_timestamp'] = k[0]\n",
    "                        dataFrame1.at[number2+1, 'message_number'] = k[1]\n",
    "                        dataFrame1.at[number2+1, 'message_category'] = k[2]\n",
    "                        dataFrame1.at[number2+1, 'message_severity'] = k[3]\n",
    "                        dataFrame1.at[number2+1, 'an_title'] = k[4]\n",
    "                        dataFrame1.at[number2+1, 'an_description'] = k[5]\n",
    "                        dataFrame1.at[number2+1, 'an_line'] = k[6]\n",
    "                        dataFrame1.at[number2+1, 'an_cell'] = k[7]\n",
    "                        dataFrame1.at[number2+1, 'an_robot'] = k[8]\n",
    "                        dataFrame1.at[number2+1, 'an_line_no'] = k[9]\n",
    "                        dataFrame1.at[number2+1, 'an_cell_no'] = k[10]\n",
    "                        dataFrame1.at[number2+1, 'an_robot_no'] = k[11]\n",
    "                        number2 = number2+1\n",
    "            else:\n",
    "                number1 = number1 + 1\n",
    "                continue        \n",
    "        \n",
    "    dataFrame1.to_parquet(\"C:/Users/Pascal/ABB Projekt/RobotLinesAnalysis/data_dataset/event_ano_pattern_dataset_per_line{}.parquet.gzip\".format(i), compression='gzip')\n",
    "    print(\"Fertig\")"
   ]
  },
  {
   "cell_type": "code",
   "execution_count": null,
   "metadata": {},
   "outputs": [],
   "source": [
    "dfExtractErrorWarningInformationAnd10RowsUpAndDownPatternDataSetAllLinesMethod(df,10)"
   ]
  }
 ],
 "metadata": {
  "kernelspec": {
   "display_name": "Python 3",
   "language": "python",
   "name": "python3"
  },
  "language_info": {
   "codemirror_mode": {
    "name": "ipython",
    "version": 3
   },
   "file_extension": ".py",
   "mimetype": "text/x-python",
   "name": "python",
   "nbconvert_exporter": "python",
   "pygments_lexer": "ipython3",
   "version": "3.6.4"
  }
 },
 "nbformat": 4,
 "nbformat_minor": 2
}
