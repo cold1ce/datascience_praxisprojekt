{
 "cells": [
  {
   "cell_type": "code",
   "execution_count": 2,
   "metadata": {},
   "outputs": [],
   "source": [
    "# imports\n",
    "import pandas as pd\n",
    "import matplotlib.pyplot as plt\n",
    "import seaborn as sns\n",
    "from matplotlib import pyplot\n",
    "%matplotlib inline"
   ]
  },
  {
   "cell_type": "code",
   "execution_count": 3,
   "metadata": {},
   "outputs": [],
   "source": [
    "#Daten einlesen\n",
    "df_orig = pd.read_parquet(\"D:/Eclipse Python/DataScience/res/event_ano_new.parquet.gzip\")"
   ]
  },
  {
   "cell_type": "code",
   "execution_count": 4,
   "metadata": {},
   "outputs": [],
   "source": [
    "df = df_orig.set_index(\"event_timestamp\")\n",
    "df.sort_index(inplace=True)"
   ]
  },
  {
   "cell_type": "code",
   "execution_count": 4,
   "metadata": {},
   "outputs": [],
   "source": [
    "line_mapping = {}\n",
    "for i in range(0,26):\n",
    "    line_mapping.update({\"line_{}\".format(i):i})\n",
    "\n",
    "df[\"an_line\"] = df.an_line.apply(lambda x: line_mapping[x] if x in line_mapping.keys() else x)"
   ]
  },
  {
   "cell_type": "code",
   "execution_count": 5,
   "metadata": {},
   "outputs": [],
   "source": [
    "cell_mapping = {}\n",
    "for i in range(0,13):\n",
    "    cell_mapping.update({\"cell_{}\".format(i):i})\n",
    "\n",
    "df[\"an_cell\"] = df.an_cell.apply(lambda x: cell_mapping[x] if x in cell_mapping.keys() else x)"
   ]
  },
  {
   "cell_type": "code",
   "execution_count": 6,
   "metadata": {},
   "outputs": [],
   "source": [
    "robot_mapping = {}\n",
    "for i in range(0,188):\n",
    "    robot_mapping.update({\"robot_{}\".format(i):i})\n",
    "\n",
    "df[\"an_robot\"] = df.an_robot.apply(lambda x: robot_mapping[x] if x in robot_mapping.keys() else x)"
   ]
  },
  {
   "cell_type": "code",
   "execution_count": 7,
   "metadata": {},
   "outputs": [],
   "source": [
    "message_severity_mapping = {\"Error\":1,\"Warning\":2,\"Information\":3}\n",
    "\n",
    "df[\"message_severity\"] = df.message_severity.apply(lambda x: message_severity_mapping[x] if x in message_severity_mapping.keys() else x)"
   ]
  },
  {
   "cell_type": "code",
   "execution_count": 8,
   "metadata": {},
   "outputs": [],
   "source": [
    "def dfExtractMethod(df,extract_value):\n",
    "    df_extract = df.loc[df['an_line'] == extract_value]\n",
    "    return df_extract"
   ]
  },
  {
   "cell_type": "code",
   "execution_count": 9,
   "metadata": {},
   "outputs": [],
   "source": [
    "df_extract = dfExtractMethod(df,1)"
   ]
  },
  {
   "cell_type": "code",
   "execution_count": 10,
   "metadata": {},
   "outputs": [],
   "source": [
    "def dfExtractErrorWarningInformationMethod(df,extract_value):\n",
    "    df_extract = df.loc[df['message_severity'] == extract_value]\n",
    "    return df_extract"
   ]
  },
  {
   "cell_type": "code",
   "execution_count": 11,
   "metadata": {},
   "outputs": [],
   "source": [
    "df_extract_index = df_extract.reset_index()"
   ]
  },
  {
   "cell_type": "code",
   "execution_count": 12,
   "metadata": {},
   "outputs": [],
   "source": [
    "def dfExtractErrorWarningInformationAnd10RowsUpAndDownMethod(df,extract_value):\n",
    "    data = []\n",
    "    for i in df:\n",
    "        data.append(i)\n",
    "\n",
    "    number = 0\n",
    "    for h in df.values:\n",
    "        number = number + 1\n",
    "        if(h[3] == extract_value):\n",
    "            for j in range(0,10):\n",
    "                data.append(df.values[number-j])\n",
    "                    \n",
    "            data.append(h)\n",
    "            for j in range(0,10):\n",
    "                data.append(df.values[number+j])\n",
    "     \n",
    "    return(data)"
   ]
  },
  {
   "cell_type": "code",
   "execution_count": 5,
   "metadata": {},
   "outputs": [
    {
     "ename": "NameError",
     "evalue": "name 'dfExtractErrorWarningInformationAnd10RowsUpAndDownMethod' is not defined",
     "output_type": "error",
     "traceback": [
      "\u001b[1;31m---------------------------------------------------------------------------\u001b[0m",
      "\u001b[1;31mNameError\u001b[0m                                 Traceback (most recent call last)",
      "\u001b[1;32m<ipython-input-5-ab7db569b91a>\u001b[0m in \u001b[0;36m<module>\u001b[1;34m()\u001b[0m\n\u001b[1;32m----> 1\u001b[1;33m \u001b[0mErrorsPerLinesPattern\u001b[0m \u001b[1;33m=\u001b[0m \u001b[0mdfExtractErrorWarningInformationAnd10RowsUpAndDownMethod\u001b[0m\u001b[1;33m(\u001b[0m\u001b[0mdf_extract_index\u001b[0m\u001b[1;33m.\u001b[0m\u001b[0mhead\u001b[0m\u001b[1;33m(\u001b[0m\u001b[1;36m100\u001b[0m\u001b[1;33m)\u001b[0m\u001b[1;33m,\u001b[0m\u001b[1;36m1\u001b[0m\u001b[1;33m)\u001b[0m\u001b[1;33m\u001b[0m\u001b[0m\n\u001b[0m\u001b[0;32m      2\u001b[0m \u001b[0mmyErrorsPerLinesPatternArray\u001b[0m \u001b[1;33m=\u001b[0m \u001b[0mnp\u001b[0m\u001b[1;33m.\u001b[0m\u001b[0masarray\u001b[0m\u001b[1;33m(\u001b[0m\u001b[0mErrorsPerLinesPattern\u001b[0m\u001b[1;33m)\u001b[0m\u001b[1;33m\u001b[0m\u001b[0m\n\u001b[0;32m      3\u001b[0m \u001b[0mdf_ErrorsPerLinesPattern\u001b[0m \u001b[1;33m=\u001b[0m \u001b[0mpd\u001b[0m\u001b[1;33m.\u001b[0m\u001b[0mDataFrame\u001b[0m\u001b[1;33m(\u001b[0m\u001b[0mmyErrorsPerLinesPatternArray\u001b[0m\u001b[1;33m)\u001b[0m\u001b[1;33m\u001b[0m\u001b[0m\n\u001b[0;32m      4\u001b[0m \u001b[0mdf_ErrorsPerLinesPattern\u001b[0m\u001b[1;33m\u001b[0m\u001b[0m\n",
      "\u001b[1;31mNameError\u001b[0m: name 'dfExtractErrorWarningInformationAnd10RowsUpAndDownMethod' is not defined"
     ]
    }
   ],
   "source": [
    "ErrorsPerLinesPattern = dfExtractErrorWarningInformationAnd10RowsUpAndDownMethod(df_extract_index.head(100),1)\n",
    "myErrorsPerLinesPatternArray = np.asarray(ErrorsPerLinesPattern)\n",
    "df_ErrorsPerLinesPattern = pd.DataFrame(myErrorsPerLinesPatternArray)\n",
    "df_ErrorsPerLinesPattern"
   ]
  },
  {
   "cell_type": "code",
   "execution_count": null,
   "metadata": {},
   "outputs": [],
   "source": []
  }
 ],
 "metadata": {
  "kernelspec": {
   "display_name": "Python 3",
   "language": "python",
   "name": "python3"
  },
  "language_info": {
   "codemirror_mode": {
    "name": "ipython",
    "version": 3
   },
   "file_extension": ".py",
   "mimetype": "text/x-python",
   "name": "python",
   "nbconvert_exporter": "python",
   "pygments_lexer": "ipython3",
   "version": "3.6.4"
  }
 },
 "nbformat": 4,
 "nbformat_minor": 2
}
