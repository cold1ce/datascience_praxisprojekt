{
 "cells": [
  {
   "cell_type": "code",
   "execution_count": 3,
   "metadata": {},
   "outputs": [],
   "source": [
    "# imports\n",
    "import numpy as np\n",
    "import pandas as pd\n",
    "import matplotlib.pyplot as plt\n",
    "import seaborn as sns\n",
    "from matplotlib import pyplot"
   ]
  },
  {
   "cell_type": "code",
   "execution_count": 4,
   "metadata": {},
   "outputs": [],
   "source": [
    "#Daten einlesen\n",
    "df_orig = pd.read_parquet(\"D:/Eclipse Python/DataScience/res/event_ano.parquet.gzip\")"
   ]
  },
  {
   "cell_type": "code",
   "execution_count": 20,
   "metadata": {},
   "outputs": [],
   "source": [
    "df_orig['event_timestamp'] = pd.to_datetime(df_orig[\"event_timestamp\"])\n",
    "df = df_orig.set_index(\"event_timestamp\")\n",
    "df.sort_index(inplace=True)"
   ]
  },
  {
   "cell_type": "code",
   "execution_count": 21,
   "metadata": {},
   "outputs": [],
   "source": [
    "line_mapping = {}\n",
    "for i in range(0,28):\n",
    "    line_mapping.update({\"line_{}\".format(i):i})\n",
    "\n",
    "df[\"an_line\"] = df.an_line.apply(lambda x: line_mapping[x] if x in line_mapping.keys() else x)"
   ]
  },
  {
   "cell_type": "code",
   "execution_count": 22,
   "metadata": {},
   "outputs": [],
   "source": [
    "cell_mapping = {}\n",
    "for i in range(0,14):\n",
    "    cell_mapping.update({\"cell_{}\".format(i):i})\n",
    "\n",
    "df[\"an_cell\"] = df.an_cell.apply(lambda x: cell_mapping[x] if x in cell_mapping.keys() else x)"
   ]
  },
  {
   "cell_type": "code",
   "execution_count": 23,
   "metadata": {},
   "outputs": [],
   "source": [
    "robot_mapping = {}\n",
    "for i in range(0,189):\n",
    "    robot_mapping.update({\"robot_{}\".format(i):i})\n",
    "\n",
    "df[\"an_robot\"] = df.an_robot.apply(lambda x: robot_mapping[x] if x in robot_mapping.keys() else x)"
   ]
  },
  {
   "cell_type": "code",
   "execution_count": 24,
   "metadata": {},
   "outputs": [],
   "source": [
    "message_severity_mapping = {\"Error\":1,\"Warning\":2,\"Information\":3}\n",
    "\n",
    "df[\"message_severity\"] = df.message_severity.apply(lambda x: message_severity_mapping[x] if x in message_severity_mapping.keys() else x)"
   ]
  },
  {
   "cell_type": "code",
   "execution_count": 25,
   "metadata": {},
   "outputs": [],
   "source": [
    "def dfExtractMethod(df,extract_value):\n",
    "    df_extract = df.loc[df['an_line'] == extract_value]\n",
    "    return df_extract"
   ]
  },
  {
   "cell_type": "code",
   "execution_count": 26,
   "metadata": {},
   "outputs": [],
   "source": [
    "def dfExtractErrorWarningInformationMethod(df,extract_value):\n",
    "    df_extract = df.loc[df['message_severity'] == extract_value]\n",
    "    return df_extract\n",
    "\n",
    "#df_extract_error = dfExtractErrorWarningInformationMethod(df_extract,1)\n",
    "## 1 == Error\n",
    "#df_extract_warning = dfExtractErrorWarningInformationMethod(df_extract,2)\n",
    "## 2 == Warning\n",
    "#df_extract_information = dfExtractErrorWarningInformationMethod(df_extract,3)\n",
    "## 3 == Information"
   ]
  },
  {
   "cell_type": "code",
   "execution_count": 27,
   "metadata": {},
   "outputs": [],
   "source": [
    "def dfRunTimePerDay(df,error_number):\n",
    "    RunTimePerDay = []\n",
    "    \n",
    "    for i in range(0,28):\n",
    "        df_extract_line = dfExtractMethod(df,i)\n",
    "                \n",
    "        start_time_line = df_extract_line.index[0]\n",
    "        end_time_line = df_extract_line.index[-1]\n",
    "        run_time_line = end_time_line - start_time_line\n",
    "                \n",
    "        df_extract_line_errors = dfExtractErrorWarningInformationMethod(df_extract_line,error_number)\n",
    "        \n",
    "        start_time_line_errors = df_extract_line_errors.index[0]\n",
    "        end_time_line_errors = df_extract_line_errors.index[-1]\n",
    "        run_time_line_errors = end_time_line_errors - start_time_line_errors\n",
    "        \n",
    "        run_time_per_day = run_time_line - run_time_line_errors\n",
    "        run_time_per_day = (run_time_per_day.total_seconds()*60)\n",
    "        \n",
    "        RunTimePerDay.append(run_time_per_day)\n",
    "    return RunTimePerDay\n",
    "\n",
    "def dfRunTimeErrorsPerDay(df,error_number):\n",
    "    RunTimeErrorsPerDay = []\n",
    "    \n",
    "    for i in range(0,28):\n",
    "        df_extract_line = dfExtractMethod(df,i)\n",
    "        \n",
    "        start_time_line = df_extract_line.index[0]\n",
    "        end_time_line = df_extract_line.index[-1]\n",
    "        run_time_line = end_time_line - start_time_line\n",
    "                \n",
    "        df_extract_line_errors = dfExtractErrorWarningInformationMethod(df_extract_line,error_number)\n",
    "        \n",
    "        start_time_line_errors = df_extract_line_errors.index[0]\n",
    "        end_time_line_errors = df_extract_line_errors.index[-1]\n",
    "        run_time_line_errors = end_time_line_errors - start_time_line_errors\n",
    "        \n",
    "        line_errors = df_extract_line_errors.message_number.count()\n",
    "        \n",
    "        RunTimeErrorsPerDay.append(line_errors/((run_time_line.total_seconds())*60))\n",
    "    return RunTimeErrorsPerDay"
   ]
  },
  {
   "cell_type": "code",
   "execution_count": 28,
   "metadata": {
    "scrolled": true
   },
   "outputs": [],
   "source": [
    "RunTimePerDayErrors = dfRunTimePerDay(df,1)\n",
    "RunTimePerDayWarnings = dfRunTimePerDay(df,2)\n",
    "RunTimePerDayInformations = dfRunTimePerDay(df,3)"
   ]
  },
  {
   "cell_type": "code",
   "execution_count": 29,
   "metadata": {
    "scrolled": false
   },
   "outputs": [
    {
     "data": {
      "text/html": [
       "<div>\n",
       "<style scoped>\n",
       "    .dataframe tbody tr th:only-of-type {\n",
       "        vertical-align: middle;\n",
       "    }\n",
       "\n",
       "    .dataframe tbody tr th {\n",
       "        vertical-align: top;\n",
       "    }\n",
       "\n",
       "    .dataframe thead th {\n",
       "        text-align: right;\n",
       "    }\n",
       "</style>\n",
       "<table border=\"1\" class=\"dataframe\">\n",
       "  <thead>\n",
       "    <tr style=\"text-align: right;\">\n",
       "      <th></th>\n",
       "      <th>Errors_Run_Time</th>\n",
       "    </tr>\n",
       "    <tr>\n",
       "      <th>Line_Run_Time</th>\n",
       "      <th></th>\n",
       "    </tr>\n",
       "  </thead>\n",
       "  <tbody>\n",
       "    <tr>\n",
       "      <th>0</th>\n",
       "      <td>52380</td>\n",
       "    </tr>\n",
       "    <tr>\n",
       "      <th>1</th>\n",
       "      <td>3659820</td>\n",
       "    </tr>\n",
       "    <tr>\n",
       "      <th>2</th>\n",
       "      <td>666660</td>\n",
       "    </tr>\n",
       "    <tr>\n",
       "      <th>3</th>\n",
       "      <td>896940</td>\n",
       "    </tr>\n",
       "    <tr>\n",
       "      <th>4</th>\n",
       "      <td>594840</td>\n",
       "    </tr>\n",
       "    <tr>\n",
       "      <th>5</th>\n",
       "      <td>2401080</td>\n",
       "    </tr>\n",
       "    <tr>\n",
       "      <th>6</th>\n",
       "      <td>8546160</td>\n",
       "    </tr>\n",
       "    <tr>\n",
       "      <th>7</th>\n",
       "      <td>7114380</td>\n",
       "    </tr>\n",
       "    <tr>\n",
       "      <th>8</th>\n",
       "      <td>13155000</td>\n",
       "    </tr>\n",
       "    <tr>\n",
       "      <th>9</th>\n",
       "      <td>10304760</td>\n",
       "    </tr>\n",
       "    <tr>\n",
       "      <th>10</th>\n",
       "      <td>14515800</td>\n",
       "    </tr>\n",
       "    <tr>\n",
       "      <th>11</th>\n",
       "      <td>9864540</td>\n",
       "    </tr>\n",
       "    <tr>\n",
       "      <th>12</th>\n",
       "      <td>14448660</td>\n",
       "    </tr>\n",
       "    <tr>\n",
       "      <th>13</th>\n",
       "      <td>8649480</td>\n",
       "    </tr>\n",
       "    <tr>\n",
       "      <th>14</th>\n",
       "      <td>6756900</td>\n",
       "    </tr>\n",
       "    <tr>\n",
       "      <th>15</th>\n",
       "      <td>376980</td>\n",
       "    </tr>\n",
       "    <tr>\n",
       "      <th>16</th>\n",
       "      <td>8877780</td>\n",
       "    </tr>\n",
       "    <tr>\n",
       "      <th>17</th>\n",
       "      <td>3919980</td>\n",
       "    </tr>\n",
       "    <tr>\n",
       "      <th>18</th>\n",
       "      <td>3586680</td>\n",
       "    </tr>\n",
       "    <tr>\n",
       "      <th>19</th>\n",
       "      <td>2209140</td>\n",
       "    </tr>\n",
       "    <tr>\n",
       "      <th>20</th>\n",
       "      <td>7080840</td>\n",
       "    </tr>\n",
       "    <tr>\n",
       "      <th>21</th>\n",
       "      <td>8742360</td>\n",
       "    </tr>\n",
       "    <tr>\n",
       "      <th>22</th>\n",
       "      <td>1467000</td>\n",
       "    </tr>\n",
       "    <tr>\n",
       "      <th>23</th>\n",
       "      <td>2206620</td>\n",
       "    </tr>\n",
       "    <tr>\n",
       "      <th>24</th>\n",
       "      <td>1497960</td>\n",
       "    </tr>\n",
       "    <tr>\n",
       "      <th>25</th>\n",
       "      <td>180</td>\n",
       "    </tr>\n",
       "    <tr>\n",
       "      <th>26</th>\n",
       "      <td>556200</td>\n",
       "    </tr>\n",
       "    <tr>\n",
       "      <th>27</th>\n",
       "      <td>226200</td>\n",
       "    </tr>\n",
       "  </tbody>\n",
       "</table>\n",
       "</div>"
      ],
      "text/plain": [
       "               Errors_Run_Time\n",
       "Line_Run_Time                 \n",
       "0                        52380\n",
       "1                      3659820\n",
       "2                       666660\n",
       "3                       896940\n",
       "4                       594840\n",
       "5                      2401080\n",
       "6                      8546160\n",
       "7                      7114380\n",
       "8                     13155000\n",
       "9                     10304760\n",
       "10                    14515800\n",
       "11                     9864540\n",
       "12                    14448660\n",
       "13                     8649480\n",
       "14                     6756900\n",
       "15                      376980\n",
       "16                     8877780\n",
       "17                     3919980\n",
       "18                     3586680\n",
       "19                     2209140\n",
       "20                     7080840\n",
       "21                     8742360\n",
       "22                     1467000\n",
       "23                     2206620\n",
       "24                     1497960\n",
       "25                         180\n",
       "26                      556200\n",
       "27                      226200"
      ]
     },
     "execution_count": 29,
     "metadata": {},
     "output_type": "execute_result"
    }
   ],
   "source": [
    "myColumnsLineArray = np.arange(0,28)\n",
    "myRunTimePerDayWarningsArray = np.asarray(RunTimePerDayWarnings)\n",
    "myRunTimePerDayErrorsArray = np.asarray(RunTimePerDayErrors)\n",
    "myRunTimePerDayInformationsArray = np.asarray(RunTimePerDayInformations)\n",
    "\n",
    "df_RunTimePerDay = pd.DataFrame()\n",
    "df_RunTimePerDay[\"Line_Run_Time\"] = myColumnsLineArray\n",
    "df_RunTimePerDay = df_RunTimePerDay.set_index(\"Line_Run_Time\")\n",
    "df_RunTimePerDay[\"Errors_Run_Time\"] = myRunTimePerDayErrorsArray\n",
    "#df_RunTimePerDay[\"Warnings_Run_Time\"] = myRunTimePerDayWarningsArray\n",
    "#df_RunTimePerDay[\"Informations_Run_Time\"] = myRunTimePerDayInformationsArray\n",
    "df_RunTimePerDay = df_RunTimePerDay.astype(int)\n",
    "df_RunTimePerDay"
   ]
  },
  {
   "cell_type": "code",
   "execution_count": 30,
   "metadata": {},
   "outputs": [
    {
     "data": {
      "image/png": "[encoded data removed]",
      "text/plain": [
       "<Figure size 432x288 with 1 Axes>"
      ]
     },
     "metadata": {},
     "output_type": "display_data"
    }
   ],
   "source": [
    "sns.barplot(x=df_RunTimePerDay.index, y=df_RunTimePerDay.Errors_Run_Time.values)\n",
    "plt.show()"
   ]
  },
  {
   "cell_type": "code",
   "execution_count": 31,
   "metadata": {},
   "outputs": [],
   "source": [
    "RunTimeErrorsPerDayErrors = dfRunTimeErrorsPerDay(df,1)\n",
    "RunTimeErrorsPerDayWarnings = dfRunTimeErrorsPerDay(df,2)\n",
    "RunTimeErrorsPerDayInformations = dfRunTimeErrorsPerDay(df,3)"
   ]
  },
  {
   "cell_type": "code",
   "execution_count": 32,
   "metadata": {},
   "outputs": [],
   "source": [
    "myRunTimeErrorsPerDayErrorsArray = np.asarray(RunTimeErrorsPerDayErrors)\n",
    "myRunTimeErrorsPerDayWarningsArray = np.asarray(RunTimeErrorsPerDayWarnings)\n",
    "myRunTimeErrorsPerDayInformationsArray = np.asarray(RunTimeErrorsPerDayInformations)\n",
    "\n",
    "#print(myColumnsLineArray)\n",
    "#print(myRunTimeErrorsPerDayErrorsArray)\n",
    "\n",
    "df_RunTimeErrorsPerDayErrors = pd.DataFrame()\n",
    "df_RunTimeErrorsPerDayErrors[\"Line_Run_Time\"] = myColumnsLineArray\n",
    "df_RunTimeErrorsPerDayErrors = df_RunTimeErrorsPerDayErrors.set_index(\"Line_Run_Time\")\n",
    "df_RunTimeErrorsPerDayErrors[\"Errors_Run_Time\"] = myRunTimeErrorsPerDayErrorsArray\n",
    "#df_RunTimeErrorsPerDayErrors[\"Warning_Run_Time\"] = myRunTimeErrorsPerDayWarningsArray\n",
    "#df_RunTimeErrorsPerDayErrors[\"Informations_Run_Time\"] = myRunTimeErrorsPerDayInformationsArray\n",
    "df_RunTimeErrorsPerDayErrors = df_RunTimeErrorsPerDayErrors.astype(float)"
   ]
  },
  {
   "cell_type": "code",
   "execution_count": 33,
   "metadata": {},
   "outputs": [
    {
     "data": {
      "image/png": "[encoded data removed]",
      "text/plain": [
       "<Figure size 432x288 with 1 Axes>"
      ]
     },
     "metadata": {},
     "output_type": "display_data"
    }
   ],
   "source": [
    "sns.barplot(x=df_RunTimeErrorsPerDayErrors.index, y=df_RunTimeErrorsPerDayErrors.Errors_Run_Time.values)\n",
    "plt.show()"
   ]
  }
 ],
 "metadata": {
  "kernelspec": {
   "display_name": "Python 3",
   "language": "python",
   "name": "python3"
  },
  "language_info": {
   "codemirror_mode": {
    "name": "ipython",
    "version": 3
   },
   "file_extension": ".py",
   "mimetype": "text/x-python",
   "name": "python",
   "nbconvert_exporter": "python",
   "pygments_lexer": "ipython3",
   "version": "3.6.4"
  }
 },
 "nbformat": 4,
 "nbformat_minor": 2
}
