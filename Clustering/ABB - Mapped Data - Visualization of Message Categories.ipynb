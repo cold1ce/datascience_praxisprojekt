{
 "cells": [
  {
   "cell_type": "code",
   "execution_count": 53,
   "metadata": {},
   "outputs": [],
   "source": [
    "import pandas as pd\n",
    "import matplotlib.pyplot as plt"
   ]
  },
  {
   "cell_type": "code",
   "execution_count": 5,
   "metadata": {},
   "outputs": [
    {
     "data": {
      "text/html": [
       "<div>\n",
       "<style scoped>\n",
       "    .dataframe tbody tr th:only-of-type {\n",
       "        vertical-align: middle;\n",
       "    }\n",
       "\n",
       "    .dataframe tbody tr th {\n",
       "        vertical-align: top;\n",
       "    }\n",
       "\n",
       "    .dataframe thead th {\n",
       "        text-align: right;\n",
       "    }\n",
       "</style>\n",
       "<table border=\"1\" class=\"dataframe\">\n",
       "  <thead>\n",
       "    <tr style=\"text-align: right;\">\n",
       "      <th></th>\n",
       "      <th>Unnamed: 0</th>\n",
       "      <th>event_timestamp</th>\n",
       "      <th>message_number</th>\n",
       "      <th>message_category</th>\n",
       "      <th>message_severity</th>\n",
       "      <th>an_title</th>\n",
       "      <th>an_description</th>\n",
       "      <th>an_line</th>\n",
       "      <th>an_cell</th>\n",
       "      <th>an_robot</th>\n",
       "    </tr>\n",
       "  </thead>\n",
       "  <tbody>\n",
       "    <tr>\n",
       "      <th>0</th>\n",
       "      <td>0</td>\n",
       "      <td>2016-07-04 16:19:35</td>\n",
       "      <td>10010</td>\n",
       "      <td>Operational</td>\n",
       "      <td>Information</td>\n",
       "      <td>None</td>\n",
       "      <td>None</td>\n",
       "      <td>line_0</td>\n",
       "      <td>cell_0</td>\n",
       "      <td>robot_0</td>\n",
       "    </tr>\n",
       "    <tr>\n",
       "      <th>1</th>\n",
       "      <td>1</td>\n",
       "      <td>2016-07-04 16:19:35</td>\n",
       "      <td>10017</td>\n",
       "      <td>Operational</td>\n",
       "      <td>Information</td>\n",
       "      <td>None</td>\n",
       "      <td>None</td>\n",
       "      <td>line_0</td>\n",
       "      <td>cell_0</td>\n",
       "      <td>robot_0</td>\n",
       "    </tr>\n",
       "    <tr>\n",
       "      <th>2</th>\n",
       "      <td>2</td>\n",
       "      <td>2016-07-04 16:19:35</td>\n",
       "      <td>10016</td>\n",
       "      <td>Operational</td>\n",
       "      <td>Information</td>\n",
       "      <td>None</td>\n",
       "      <td>None</td>\n",
       "      <td>line_0</td>\n",
       "      <td>cell_0</td>\n",
       "      <td>robot_0</td>\n",
       "    </tr>\n",
       "    <tr>\n",
       "      <th>3</th>\n",
       "      <td>3</td>\n",
       "      <td>2016-07-04 16:19:34</td>\n",
       "      <td>10015</td>\n",
       "      <td>Operational</td>\n",
       "      <td>Information</td>\n",
       "      <td>None</td>\n",
       "      <td>None</td>\n",
       "      <td>line_0</td>\n",
       "      <td>cell_0</td>\n",
       "      <td>robot_0</td>\n",
       "    </tr>\n",
       "    <tr>\n",
       "      <th>4</th>\n",
       "      <td>4</td>\n",
       "      <td>2016-07-04 16:19:34</td>\n",
       "      <td>10012</td>\n",
       "      <td>Operational</td>\n",
       "      <td>Information</td>\n",
       "      <td>None</td>\n",
       "      <td>None</td>\n",
       "      <td>line_0</td>\n",
       "      <td>cell_0</td>\n",
       "      <td>robot_0</td>\n",
       "    </tr>\n",
       "  </tbody>\n",
       "</table>\n",
       "</div>"
      ],
      "text/plain": [
       "   Unnamed: 0      event_timestamp  message_number message_category  \\\n",
       "0           0  2016-07-04 16:19:35           10010      Operational   \n",
       "1           1  2016-07-04 16:19:35           10017      Operational   \n",
       "2           2  2016-07-04 16:19:35           10016      Operational   \n",
       "3           3  2016-07-04 16:19:34           10015      Operational   \n",
       "4           4  2016-07-04 16:19:34           10012      Operational   \n",
       "\n",
       "  message_severity an_title an_description an_line an_cell an_robot  \n",
       "0      Information     None           None  line_0  cell_0  robot_0  \n",
       "1      Information     None           None  line_0  cell_0  robot_0  \n",
       "2      Information     None           None  line_0  cell_0  robot_0  \n",
       "3      Information     None           None  line_0  cell_0  robot_0  \n",
       "4      Information     None           None  line_0  cell_0  robot_0  "
      ]
     },
     "execution_count": 5,
     "metadata": {},
     "output_type": "execute_result"
    }
   ],
   "source": [
    "df = pd.read_parquet(\"C:/Users/Anika/Documents/Master/Ludwigshafen/3. Semester WS1819/ABB Küppers Projekt/ABB_Data/event_ano_mapped.parquet.gzip\")\n",
    "\n",
    "df.head()"
   ]
  },
  {
   "cell_type": "code",
   "execution_count": 6,
   "metadata": {},
   "outputs": [
    {
     "data": {
      "text/plain": [
       "array(['Information', 'Warning', 'Error'], dtype=object)"
      ]
     },
     "execution_count": 6,
     "metadata": {},
     "output_type": "execute_result"
    }
   ],
   "source": [
    "df.message_severity.unique()"
   ]
  },
  {
   "cell_type": "code",
   "execution_count": 7,
   "metadata": {},
   "outputs": [],
   "source": [
    "df['mapped_severity'] = df.message_severity.map({\"Information\": 0, \"Warning\": 1, \"Error\": 2})"
   ]
  },
  {
   "cell_type": "code",
   "execution_count": 11,
   "metadata": {},
   "outputs": [
    {
     "data": {
      "text/html": [
       "<div>\n",
       "<style scoped>\n",
       "    .dataframe tbody tr th:only-of-type {\n",
       "        vertical-align: middle;\n",
       "    }\n",
       "\n",
       "    .dataframe tbody tr th {\n",
       "        vertical-align: top;\n",
       "    }\n",
       "\n",
       "    .dataframe thead th {\n",
       "        text-align: right;\n",
       "    }\n",
       "</style>\n",
       "<table border=\"1\" class=\"dataframe\">\n",
       "  <thead>\n",
       "    <tr style=\"text-align: right;\">\n",
       "      <th></th>\n",
       "      <th>event_timestamp</th>\n",
       "      <th>message_number</th>\n",
       "      <th>message_category</th>\n",
       "      <th>message_severity</th>\n",
       "      <th>an_title</th>\n",
       "      <th>an_description</th>\n",
       "      <th>an_line</th>\n",
       "      <th>an_cell</th>\n",
       "      <th>an_robot</th>\n",
       "      <th>mapped_severity</th>\n",
       "    </tr>\n",
       "  </thead>\n",
       "  <tbody>\n",
       "    <tr>\n",
       "      <th>0</th>\n",
       "      <td>2016-07-04 16:19:35</td>\n",
       "      <td>10010</td>\n",
       "      <td>Operational</td>\n",
       "      <td>Information</td>\n",
       "      <td>None</td>\n",
       "      <td>None</td>\n",
       "      <td>line_0</td>\n",
       "      <td>cell_0</td>\n",
       "      <td>robot_0</td>\n",
       "      <td>0</td>\n",
       "    </tr>\n",
       "    <tr>\n",
       "      <th>1</th>\n",
       "      <td>2016-07-04 16:19:35</td>\n",
       "      <td>10017</td>\n",
       "      <td>Operational</td>\n",
       "      <td>Information</td>\n",
       "      <td>None</td>\n",
       "      <td>None</td>\n",
       "      <td>line_0</td>\n",
       "      <td>cell_0</td>\n",
       "      <td>robot_0</td>\n",
       "      <td>0</td>\n",
       "    </tr>\n",
       "    <tr>\n",
       "      <th>2</th>\n",
       "      <td>2016-07-04 16:19:35</td>\n",
       "      <td>10016</td>\n",
       "      <td>Operational</td>\n",
       "      <td>Information</td>\n",
       "      <td>None</td>\n",
       "      <td>None</td>\n",
       "      <td>line_0</td>\n",
       "      <td>cell_0</td>\n",
       "      <td>robot_0</td>\n",
       "      <td>0</td>\n",
       "    </tr>\n",
       "    <tr>\n",
       "      <th>3</th>\n",
       "      <td>2016-07-04 16:19:34</td>\n",
       "      <td>10015</td>\n",
       "      <td>Operational</td>\n",
       "      <td>Information</td>\n",
       "      <td>None</td>\n",
       "      <td>None</td>\n",
       "      <td>line_0</td>\n",
       "      <td>cell_0</td>\n",
       "      <td>robot_0</td>\n",
       "      <td>0</td>\n",
       "    </tr>\n",
       "    <tr>\n",
       "      <th>4</th>\n",
       "      <td>2016-07-04 16:19:34</td>\n",
       "      <td>10012</td>\n",
       "      <td>Operational</td>\n",
       "      <td>Information</td>\n",
       "      <td>None</td>\n",
       "      <td>None</td>\n",
       "      <td>line_0</td>\n",
       "      <td>cell_0</td>\n",
       "      <td>robot_0</td>\n",
       "      <td>0</td>\n",
       "    </tr>\n",
       "  </tbody>\n",
       "</table>\n",
       "</div>"
      ],
      "text/plain": [
       "       event_timestamp  message_number message_category message_severity  \\\n",
       "0  2016-07-04 16:19:35           10010      Operational      Information   \n",
       "1  2016-07-04 16:19:35           10017      Operational      Information   \n",
       "2  2016-07-04 16:19:35           10016      Operational      Information   \n",
       "3  2016-07-04 16:19:34           10015      Operational      Information   \n",
       "4  2016-07-04 16:19:34           10012      Operational      Information   \n",
       "\n",
       "  an_title an_description an_line an_cell an_robot  mapped_severity  \n",
       "0     None           None  line_0  cell_0  robot_0                0  \n",
       "1     None           None  line_0  cell_0  robot_0                0  \n",
       "2     None           None  line_0  cell_0  robot_0                0  \n",
       "3     None           None  line_0  cell_0  robot_0                0  \n",
       "4     None           None  line_0  cell_0  robot_0                0  "
      ]
     },
     "execution_count": 11,
     "metadata": {},
     "output_type": "execute_result"
    }
   ],
   "source": [
    "df = df.iloc[:, 1:]\n",
    "\n",
    "df.head()"
   ]
  },
  {
   "cell_type": "code",
   "execution_count": 44,
   "metadata": {},
   "outputs": [
    {
     "data": {
      "text/plain": [
       "array([10010, 10017, 10016, 10015, 10012, 10011, 10129, 10150, 10002,\n",
       "       10125, 10155, 10045, 10122, 10151, 10053, 10052, 10156, 10232,\n",
       "       10020, 10019, 10018, 10021, 10013, 10126, 10253, 10252, 10251,\n",
       "       10250, 10046, 10270, 10271, 71444, 10231, 10230, 10123, 10025,\n",
       "       10026, 10024, 71276, 10131, 10121, 10130, 10260, 20493, 10401,\n",
       "       20452, 50428, 10400, 10032, 10036, 10014, 10042, 10133, 10152,\n",
       "       10157], dtype=int64)"
      ]
     },
     "execution_count": 44,
     "metadata": {},
     "output_type": "execute_result"
    }
   ],
   "source": [
    "df_info = df[df.message_severity == 'Information']\n",
    "\n",
    "df_info.message_number.unique()"
   ]
  },
  {
   "cell_type": "code",
   "execution_count": 170,
   "metadata": {},
   "outputs": [
    {
     "data": {
      "image/png": "[encoded data removed]",
      "text/plain": [
       "<Figure size 432x288 with 1 Axes>"
      ]
     },
     "metadata": {},
     "output_type": "display_data"
    }
   ],
   "source": [
    "#Anteil von messages in den unterschiedlichen Categories (für Information msg)\n",
    "sizes1 = df_info.groupby('message_category').message_number.count()\n",
    "hunperc1 = df_info.groupby('message_category').message_number.count().sum()\n",
    "perc1 = [\"{:.2f} %\".format(x*100/hunperc1) for x in sizes1]\n",
    "labs1 = list(df_info.message_category.unique())\n",
    "\n",
    "labels1 = list(map(lambda x, y: x+ ' ' +y, labs1, perc1))\n",
    "\n",
    "fig1, ax1 = plt.subplots()\n",
    "patches1, texts = ax1.pie(sizes1, startangle=90)\n",
    "ax1.legend(patches1, labels1, loc=\"center right\", bbox_to_anchor=(1.5,0.5))\n",
    "ax1.set_title(\"% of Information Messages per Category\")\n",
    "ax1.axis('equal')\n",
    "\n",
    "plt.show()"
   ]
  },
  {
   "cell_type": "code",
   "execution_count": 46,
   "metadata": {},
   "outputs": [
    {
     "data": {
      "text/plain": [
       "65"
      ]
     },
     "execution_count": 46,
     "metadata": {},
     "output_type": "execute_result"
    }
   ],
   "source": [
    "df_warning = df[df.message_severity == 'Warning']\n",
    "\n",
    "len(df_warning.message_number.unique())"
   ]
  },
  {
   "cell_type": "code",
   "execution_count": 160,
   "metadata": {},
   "outputs": [
    {
     "name": "stdout",
     "output_type": "stream",
     "text": [
      "['0.00 %', '4.40 %', '91.87 %', '0.02 %', '1.77 %', '0.80 %', '1.15 %']\n",
      "message_category\n",
      "Hardware                26\n",
      "IOCommunication     104418\n",
      "Motion             2180588\n",
      "Operational            407\n",
      "Program              41925\n",
      "System               18974\n",
      "User                 27241\n",
      "Name: message_number, dtype: int64\n"
     ]
    }
   ],
   "source": [
    "sizes = df_warning.groupby('message_category').message_number.count()\n",
    "hunperc = df_warning.groupby('message_category').message_number.count().sum()\n",
    "\n",
    "perc = [\"{:.2f} %\".format(x*100/hunperc) for x in sizes]\n",
    "print(perc)\n",
    "print(sizes)"
   ]
  },
  {
   "cell_type": "code",
   "execution_count": 165,
   "metadata": {},
   "outputs": [
    {
     "data": {
      "image/png": "[encoded data removed]",
      "text/plain": [
       "<Figure size 432x288 with 1 Axes>"
      ]
     },
     "metadata": {},
     "output_type": "display_data"
    }
   ],
   "source": [
    "#Anteil von messages in den unterschiedlichen Categories (für Information msg)\n",
    "labs = list(df_warning.message_category.unique())\n",
    "labels = list(map(lambda x, y: x+ ' ' +y, labs, perc))\n",
    "sizes = df_warning.groupby('message_category').message_number.count()\n",
    "\n",
    "fig1, ax = plt.subplots()\n",
    "patches, texts = ax.pie(sizes, startangle=90)\n",
    "ax.legend(patches, labels, loc=\"center right\", bbox_to_anchor=(1.5,0.5))\n",
    "ax.set_title(\"% of Warning Messages per Category\")\n",
    "ax.axis('equal')\n",
    "\n",
    "plt.show()"
   ]
  },
  {
   "cell_type": "code",
   "execution_count": 48,
   "metadata": {},
   "outputs": [
    {
     "data": {
      "text/plain": [
       "114"
      ]
     },
     "execution_count": 48,
     "metadata": {},
     "output_type": "execute_result"
    }
   ],
   "source": [
    "df_error = df[df.message_severity == 'Error']\n",
    "\n",
    "len(df_error.message_number.unique())"
   ]
  },
  {
   "cell_type": "code",
   "execution_count": 171,
   "metadata": {},
   "outputs": [
    {
     "data": {
      "image/png": "[encoded data removed]",
      "text/plain": [
       "<Figure size 432x288 with 1 Axes>"
      ]
     },
     "metadata": {},
     "output_type": "display_data"
    }
   ],
   "source": [
    "#Anteil von messages in den unterschiedlichen Categories (für Error msg)\n",
    "sizes2 = df_error.groupby('message_category').message_number.count()\n",
    "hunperc2 = df_error.groupby('message_category').message_number.count().sum()\n",
    "perc2 = [\"{:.2f} %\".format(x*100/hunperc2) for x in sizes2]\n",
    "labs2 = list(df_error.message_category.unique())\n",
    "\n",
    "labels2 = list(map(lambda x, y: x+ ' ' +y, labs2, perc2))\n",
    "\n",
    "fig2, ax2 = plt.subplots()\n",
    "patches2, texts = ax2.pie(sizes2, startangle=90)\n",
    "ax2.legend(patches2, labels2, loc=\"center right\", bbox_to_anchor=(1.5,0.5))\n",
    "ax2.set_title(\"% of Error Messages per Category\")\n",
    "ax2.axis('equal')\n",
    "\n",
    "plt.show()"
   ]
  }
 ],
 "metadata": {
  "kernelspec": {
   "display_name": "Python 3",
   "language": "python",
   "name": "python3"
  },
  "language_info": {
   "codemirror_mode": {
    "name": "ipython",
    "version": 3
   },
   "file_extension": ".py",
   "mimetype": "text/x-python",
   "name": "python",
   "nbconvert_exporter": "python",
   "pygments_lexer": "ipython3",
   "version": "3.6.4"
  }
 },
 "nbformat": 4,
 "nbformat_minor": 2
}
