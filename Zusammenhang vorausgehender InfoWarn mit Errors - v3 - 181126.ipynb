{
 "cells": [
  {
   "cell_type": "code",
   "execution_count": 1,
   "metadata": {
    "scrolled": false
   },
   "outputs": [
    {
     "name": "stdout",
     "output_type": "stream",
     "text": [
      "Data loaded.\n"
     ]
    },
    {
     "data": {
      "text/html": [
       "<div>\n",
       "<style scoped>\n",
       "    .dataframe tbody tr th:only-of-type {\n",
       "        vertical-align: middle;\n",
       "    }\n",
       "\n",
       "    .dataframe tbody tr th {\n",
       "        vertical-align: top;\n",
       "    }\n",
       "\n",
       "    .dataframe thead th {\n",
       "        text-align: right;\n",
       "    }\n",
       "</style>\n",
       "<table border=\"1\" class=\"dataframe\">\n",
       "  <thead>\n",
       "    <tr style=\"text-align: right;\">\n",
       "      <th></th>\n",
       "      <th>Unnamed: 0</th>\n",
       "      <th>event_timestamp</th>\n",
       "      <th>message_number</th>\n",
       "      <th>message_category</th>\n",
       "      <th>message_severity</th>\n",
       "      <th>an_title</th>\n",
       "      <th>an_description</th>\n",
       "      <th>an_line</th>\n",
       "      <th>an_cell</th>\n",
       "      <th>an_robot</th>\n",
       "    </tr>\n",
       "  </thead>\n",
       "  <tbody>\n",
       "    <tr>\n",
       "      <th>0</th>\n",
       "      <td>0</td>\n",
       "      <td>2016-07-04 16:19:35</td>\n",
       "      <td>10010</td>\n",
       "      <td>Operational</td>\n",
       "      <td>Information</td>\n",
       "      <td>None</td>\n",
       "      <td>None</td>\n",
       "      <td>line_0</td>\n",
       "      <td>cell_0</td>\n",
       "      <td>robot_0</td>\n",
       "    </tr>\n",
       "    <tr>\n",
       "      <th>1</th>\n",
       "      <td>1</td>\n",
       "      <td>2016-07-04 16:19:35</td>\n",
       "      <td>10017</td>\n",
       "      <td>Operational</td>\n",
       "      <td>Information</td>\n",
       "      <td>None</td>\n",
       "      <td>None</td>\n",
       "      <td>line_0</td>\n",
       "      <td>cell_0</td>\n",
       "      <td>robot_0</td>\n",
       "    </tr>\n",
       "    <tr>\n",
       "      <th>2</th>\n",
       "      <td>2</td>\n",
       "      <td>2016-07-04 16:19:35</td>\n",
       "      <td>10016</td>\n",
       "      <td>Operational</td>\n",
       "      <td>Information</td>\n",
       "      <td>None</td>\n",
       "      <td>None</td>\n",
       "      <td>line_0</td>\n",
       "      <td>cell_0</td>\n",
       "      <td>robot_0</td>\n",
       "    </tr>\n",
       "    <tr>\n",
       "      <th>3</th>\n",
       "      <td>3</td>\n",
       "      <td>2016-07-04 16:19:34</td>\n",
       "      <td>10015</td>\n",
       "      <td>Operational</td>\n",
       "      <td>Information</td>\n",
       "      <td>None</td>\n",
       "      <td>None</td>\n",
       "      <td>line_0</td>\n",
       "      <td>cell_0</td>\n",
       "      <td>robot_0</td>\n",
       "    </tr>\n",
       "    <tr>\n",
       "      <th>4</th>\n",
       "      <td>4</td>\n",
       "      <td>2016-07-04 16:19:34</td>\n",
       "      <td>10012</td>\n",
       "      <td>Operational</td>\n",
       "      <td>Information</td>\n",
       "      <td>None</td>\n",
       "      <td>None</td>\n",
       "      <td>line_0</td>\n",
       "      <td>cell_0</td>\n",
       "      <td>robot_0</td>\n",
       "    </tr>\n",
       "    <tr>\n",
       "      <th>5</th>\n",
       "      <td>5</td>\n",
       "      <td>2016-07-04 16:19:34</td>\n",
       "      <td>10011</td>\n",
       "      <td>Operational</td>\n",
       "      <td>Information</td>\n",
       "      <td>None</td>\n",
       "      <td>None</td>\n",
       "      <td>line_0</td>\n",
       "      <td>cell_0</td>\n",
       "      <td>robot_0</td>\n",
       "    </tr>\n",
       "    <tr>\n",
       "      <th>6</th>\n",
       "      <td>6</td>\n",
       "      <td>2016-07-04 16:19:33</td>\n",
       "      <td>10017</td>\n",
       "      <td>Operational</td>\n",
       "      <td>Information</td>\n",
       "      <td>None</td>\n",
       "      <td>None</td>\n",
       "      <td>line_0</td>\n",
       "      <td>cell_0</td>\n",
       "      <td>robot_0</td>\n",
       "    </tr>\n",
       "    <tr>\n",
       "      <th>7</th>\n",
       "      <td>7</td>\n",
       "      <td>2016-07-04 16:19:33</td>\n",
       "      <td>10016</td>\n",
       "      <td>Operational</td>\n",
       "      <td>Information</td>\n",
       "      <td>None</td>\n",
       "      <td>None</td>\n",
       "      <td>line_0</td>\n",
       "      <td>cell_0</td>\n",
       "      <td>robot_0</td>\n",
       "    </tr>\n",
       "    <tr>\n",
       "      <th>8</th>\n",
       "      <td>8</td>\n",
       "      <td>2016-07-04 16:19:32</td>\n",
       "      <td>40168</td>\n",
       "      <td>Program</td>\n",
       "      <td>Warning</td>\n",
       "      <td>None</td>\n",
       "      <td>None</td>\n",
       "      <td>line_0</td>\n",
       "      <td>cell_0</td>\n",
       "      <td>robot_0</td>\n",
       "    </tr>\n",
       "    <tr>\n",
       "      <th>9</th>\n",
       "      <td>9</td>\n",
       "      <td>2016-07-04 16:19:32</td>\n",
       "      <td>134010</td>\n",
       "      <td>Paint</td>\n",
       "      <td>Error</td>\n",
       "      <td>None</td>\n",
       "      <td>None</td>\n",
       "      <td>line_0</td>\n",
       "      <td>cell_0</td>\n",
       "      <td>robot_0</td>\n",
       "    </tr>\n",
       "  </tbody>\n",
       "</table>\n",
       "</div>"
      ],
      "text/plain": [
       "   Unnamed: 0      event_timestamp  message_number message_category  \\\n",
       "0           0  2016-07-04 16:19:35           10010      Operational   \n",
       "1           1  2016-07-04 16:19:35           10017      Operational   \n",
       "2           2  2016-07-04 16:19:35           10016      Operational   \n",
       "3           3  2016-07-04 16:19:34           10015      Operational   \n",
       "4           4  2016-07-04 16:19:34           10012      Operational   \n",
       "5           5  2016-07-04 16:19:34           10011      Operational   \n",
       "6           6  2016-07-04 16:19:33           10017      Operational   \n",
       "7           7  2016-07-04 16:19:33           10016      Operational   \n",
       "8           8  2016-07-04 16:19:32           40168          Program   \n",
       "9           9  2016-07-04 16:19:32          134010            Paint   \n",
       "\n",
       "  message_severity an_title an_description an_line an_cell an_robot  \n",
       "0      Information     None           None  line_0  cell_0  robot_0  \n",
       "1      Information     None           None  line_0  cell_0  robot_0  \n",
       "2      Information     None           None  line_0  cell_0  robot_0  \n",
       "3      Information     None           None  line_0  cell_0  robot_0  \n",
       "4      Information     None           None  line_0  cell_0  robot_0  \n",
       "5      Information     None           None  line_0  cell_0  robot_0  \n",
       "6      Information     None           None  line_0  cell_0  robot_0  \n",
       "7      Information     None           None  line_0  cell_0  robot_0  \n",
       "8          Warning     None           None  line_0  cell_0  robot_0  \n",
       "9            Error     None           None  line_0  cell_0  robot_0  "
      ]
     },
     "execution_count": 1,
     "metadata": {},
     "output_type": "execute_result"
    }
   ],
   "source": [
    "# Imports\n",
    "import pyarrow as pa\n",
    "import pandas as pd\n",
    "\n",
    "#D atei einlesen\n",
    "df = pd.read_parquet(\"event_ano.parquet.gzip\",engine=\"auto\")\n",
    "print(\"Data loaded.\")\n",
    "df.head(10)"
   ]
  },
  {
   "cell_type": "code",
   "execution_count": 2,
   "metadata": {},
   "outputs": [
    {
     "data": {
      "text/plain": [
       "Unnamed: 0                   int64\n",
       "event_timestamp     datetime64[ns]\n",
       "message_number               int64\n",
       "message_category            object\n",
       "message_severity            object\n",
       "an_title                    object\n",
       "an_description              object\n",
       "an_line                     object\n",
       "an_cell                     object\n",
       "an_robot                    object\n",
       "dtype: object"
      ]
     },
     "execution_count": 2,
     "metadata": {},
     "output_type": "execute_result"
    }
   ],
   "source": [
    "# Spalte Event Timestamp zu datetime64-Typ umwandeln\n",
    "df['event_timestamp'] = pd.to_datetime(df[\"event_timestamp\"])\n",
    "df.dtypes"
   ]
  },
  {
   "cell_type": "code",
   "execution_count": 3,
   "metadata": {},
   "outputs": [
    {
     "name": "stdout",
     "output_type": "stream",
     "text": [
      "Data sorted.\n",
      "Unnamed: 0                            0\n",
      "event_timestamp     2016-07-04 16:19:35\n",
      "message_number                    10010\n",
      "message_category            Operational\n",
      "message_severity            Information\n",
      "an_title                           None\n",
      "an_description                     None\n",
      "an_line                          line_0\n",
      "an_cell                          cell_0\n",
      "an_robot                        robot_0\n",
      "Name: 0, dtype: object\n"
     ]
    }
   ],
   "source": [
    "#Datenframe generieren, der nach Zeit sortiert ist. (Beginnend mit ältestem Eintrag zuerst\n",
    "df_sorted = df.sort_values(by=\"event_timestamp\")\n",
    "print(\"Data sorted.\")\n",
    "df_sorted.head(1)\n",
    "#df_sorted.tail(5)\n",
    "print(df_sorted.loc[0])\n",
    "#print(df_sorted.iloc[0])"
   ]
  },
  {
   "cell_type": "code",
   "execution_count": 4,
   "metadata": {},
   "outputs": [
    {
     "name": "stdout",
     "output_type": "stream",
     "text": [
      "[293610, 293626, 293585, 293670, 293691, 293652, 293668, 293649, 293608]\n",
      "124611\n",
      "done.\n"
     ]
    }
   ],
   "source": [
    "#Einen Fehlercode als gerade zu untersuchenden Fehler festlegen.\n",
    "#Anm.: Hier muss später eine Liste aller Errortypen erstellt werden, die automatisch übergeben wird, \n",
    "#um zu verhindern, dass alle Fehler von Hand eingetippt werden müssen\n",
    "current_observed_error = 20205\n",
    "\n",
    "#Es wird eine Liste erstellt in welcher gespeichert wird an welcher Stelle [ID] im originalen und nach Zeit\n",
    "#sortierten Datensatz der aktuelle Error auftritt\n",
    "position_of_errors = df_sorted.index[df_sorted[\"message_number\"] == current_observed_error].tolist()\n",
    "\n",
    "#Als Beispiel die ersten 9 Stellen ausgeben.\n",
    "print(position_of_errors[:9])\n",
    "\n",
    "#Wie oft kommt der Fehler vor?\n",
    "print(len(position_of_errors))\n",
    "print(\"done.\")"
   ]
  },
  {
   "cell_type": "code",
   "execution_count": 5,
   "metadata": {},
   "outputs": [
    {
     "data": {
      "text/plain": [
       "Unnamed: 0                       293611\n",
       "event_timestamp     2015-05-04 16:04:00\n",
       "message_number                    10012\n",
       "message_category            Operational\n",
       "message_severity            Information\n",
       "an_title                           None\n",
       "an_description                     None\n",
       "an_line                          line_6\n",
       "an_cell                         cell_11\n",
       "an_robot                       robot_21\n",
       "Name: 293611, dtype: object"
      ]
     },
     "execution_count": 5,
     "metadata": {},
     "output_type": "execute_result"
    }
   ],
   "source": [
    "#Durch einsetzen der Error-Positionsliste in das originale DataFrame werden mittels iloc\n",
    "#alle Fehler dieses Typs angezeigt.\n",
    "df_sorted.loc[position_of_errors[:]][0:15]\n",
    "df_sorted.iloc[0]\n"
   ]
  },
  {
   "cell_type": "code",
   "execution_count": 6,
   "metadata": {},
   "outputs": [],
   "source": [
    "#Algorithmus zur Untersuchung:\n",
    "\n",
    "before_error_messages = []\n",
    "type(before_error_messages)\n",
    "for x in position_of_errors[:3000]: #!!!!!HIER NUR DIE ersten 3000 Errors untersucht\n",
    "    y=1\n",
    "    for y in range(1,20): #Range => Soviele nachrichten zuvor werden gerpüft\n",
    "        #print(\"x: \"+str(x)+\" y: \"+str(y))\n",
    "        #print(\"Hauptnachricht: \"+str(df_sorted.loc[x].an_robot)+\" x: \"+str(x)+\" \"+str(df_sorted.loc[x].message_number))\n",
    "        #print(\"Vorherige Nachricht: \"+str(df_sorted.loc[x-y].an_robot)+\" x-y: \"+str(x-y)+\" \"+str(df_sorted.loc[x-y].message_number))\n",
    "        #print(\"Datum HN:\"+str(df_sorted.iloc[x].event_timestamp))\n",
    "        #print(\"Datum vorh.:\"+str(df_sorted.iloc[x-y].event_timestamp))\n",
    "        #print(df_sorted.iloc[x].event_timestamp - df_sorted.iloc[x-y].event_timestamp)\n",
    "        # Wenn der Roboter gleich ist, wie in der Nachricht zuvor UND die Message Severity KEIN Error ist, kann die Nummer\n",
    "        # der dem Fehler vorausgehenden Nachricht gespeichert werden.\n",
    "        #Zuvor soll allerdings zusätzlich geprüft werden, wie weit das Error-Ereignis und die Nachricht zuvor auseinander liegen.\n",
    "        #Hier veranschlage ich einen Zeitraum von 60 Minuten. \n",
    "        if ((df_sorted.loc[x].an_robot == df_sorted.loc[x-y].an_robot) and \n",
    "            (df_sorted.loc[x-y].message_severity != \"Error\") and\n",
    "             ((df_sorted.loc[x].event_timestamp - df_sorted.loc[x-y].event_timestamp) <= pd.Timedelta('1 hours'))):\n",
    "\n",
    "                #print(\"Roboter sind gleich. Füge Nummer \"+str(df_sorted.loc[x-y].message_number)+\" der Liste hinzu.\")\n",
    "                before_error_messages.append(df_sorted.loc[x-y].message_number)\n",
    "                break\n",
    "        else:\n",
    "            #print(\"Roboter nicht gleich, gehe eine Nachricht weiter zurück.\")\n",
    "            y=y+1\n",
    "        \n",
    "#print(\"-----------------------Check für \"+str(x) +\" vorbei---------------\")                 \n",
    "\n",
    "\n"
   ]
  },
  {
   "cell_type": "code",
   "execution_count": 7,
   "metadata": {},
   "outputs": [
    {
     "data": {
      "text/plain": [
       "2801"
      ]
     },
     "execution_count": 7,
     "metadata": {},
     "output_type": "execute_result"
    }
   ],
   "source": [
    "len(before_error_messages)"
   ]
  },
  {
   "cell_type": "code",
   "execution_count": 16,
   "metadata": {},
   "outputs": [
    {
     "data": {
      "text/plain": [
       "10010    1834\n",
       "10012     490\n",
       "71439     187\n",
       "71518      86\n",
       "40538      56\n",
       "10230      31\n",
       "10011      16\n",
       "71444      16\n",
       "20314      15\n",
       "41630      14\n",
       "20481      12\n",
       "10129       8\n",
       "10015       8\n",
       "10125       7\n",
       "10053       5\n",
       "71276       5\n",
       "10156       2\n",
       "50024       2\n",
       "50438       1\n",
       "10231       1\n",
       "10052       1\n",
       "10270       1\n",
       "40708       1\n",
       "10017       1\n",
       "10271       1\n",
       "dtype: int64"
      ]
     },
     "execution_count": 16,
     "metadata": {},
     "output_type": "execute_result"
    }
   ],
   "source": [
    "df2 = pd.DataFrame(before_error_messages)\n",
    "df3 = pd.Series(before_error_messages)\n",
    "df3.value_counts()"
   ]
  },
  {
   "cell_type": "code",
   "execution_count": null,
   "metadata": {},
   "outputs": [],
   "source": []
  },
  {
   "cell_type": "code",
   "execution_count": null,
   "metadata": {},
   "outputs": [],
   "source": []
  },
  {
   "cell_type": "code",
   "execution_count": null,
   "metadata": {},
   "outputs": [],
   "source": []
  }
 ],
 "metadata": {
  "kernelspec": {
   "display_name": "Python 3",
   "language": "python",
   "name": "python3"
  },
  "language_info": {
   "codemirror_mode": {
    "name": "ipython",
    "version": 3
   },
   "file_extension": ".py",
   "mimetype": "text/x-python",
   "name": "python",
   "nbconvert_exporter": "python",
   "pygments_lexer": "ipython3",
   "version": "3.6.5"
  }
 },
 "nbformat": 4,
 "nbformat_minor": 2
}
